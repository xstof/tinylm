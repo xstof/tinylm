{
 "cells": [
  {
   "cell_type": "raw",
   "id": "3c8fade8",
   "metadata": {
    "vscode": {
     "languageId": "raw"
    }
   },
   "source": [
    "---\n",
    "author: Christof Claessens\n",
    "date: June 2025\n",
    "title: \"Tokenization\"\n",
    "---"
   ]
  },
  {
   "cell_type": "markdown",
   "id": "0500ba54",
   "metadata": {},
   "source": [
    "# Tokenizing text"
   ]
  },
  {
   "cell_type": "markdown",
   "id": "2d47156c",
   "metadata": {},
   "source": [
    "We'll use an of-the-shelve tokenizer for doing Byte Pair Encoding (BPE).  We'll use `tiktoken` for this."
   ]
  },
  {
   "cell_type": "code",
   "execution_count": 27,
   "id": "fa4d89a0",
   "metadata": {},
   "outputs": [
    {
     "name": "stderr",
     "output_type": "stream",
     "text": [
      "157625.20s - pydevd: Sending message related to process being replaced timed-out after 5 seconds\n"
     ]
    },
    {
     "name": "stdout",
     "output_type": "stream",
     "text": [
      "Retrieving notices: done\n",
      "Channels:\n",
      " - defaults\n",
      "Platform: linux-aarch64\n",
      "Collecting package metadata (repodata.json): done\n",
      "Solving environment: done\n",
      "\n",
      "## Package Plan ##\n",
      "\n",
      "  environment location: /opt/conda\n",
      "\n",
      "  added / updated specs:\n",
      "    - tiktoken\n",
      "\n",
      "\n",
      "The following packages will be downloaded:\n",
      "\n",
      "    package                    |            build\n",
      "    ---------------------------|-----------------\n",
      "    conda-25.5.1               |  py313hd43f75c_0         1.2 MB\n",
      "    ------------------------------------------------------------\n",
      "                                           Total:         1.2 MB\n",
      "\n",
      "The following packages will be UPDATED:\n",
      "\n",
      "  conda                              25.5.0-py313hd43f75c_0 --> 25.5.1-py313hd43f75c_0 \n",
      "\n",
      "\n",
      "\n",
      "Downloading and Extracting Packages:\n",
      "                                                                                \n",
      "Preparing transaction: done\n",
      "Verifying transaction: done\n",
      "Executing transaction: done\n",
      "ERROR conda.core.link:_execute(1029): An error occurred while uninstalling package 'defaults/linux-aarch64::conda-25.5.0-py313hd43f75c_0'.\n",
      "Rolling back transaction: done\n",
      "\n",
      "[Errno 13] Permission denied: '/opt/conda/lib/python3.13/site-packages/conda-25.5.0.dist-info/INSTALLER' -> '/opt/conda/lib/python3.13/site-packages/conda-25.5.0.dist-info/INSTALLER.c~'\n",
      "()\n",
      "\n",
      "\n",
      "Note: you may need to restart the kernel to use updated packages.\n"
     ]
    }
   ],
   "source": [
    "#| echo: true\n",
    "#| output: false\n",
    "%conda install -y tiktoken"
   ]
  },
  {
   "cell_type": "markdown",
   "id": "97027b5a",
   "metadata": {},
   "source": [
    "Let's load a text and tokenize it:"
   ]
  },
  {
   "cell_type": "code",
   "execution_count": 28,
   "id": "816bca47",
   "metadata": {},
   "outputs": [],
   "source": [
    "import tiktoken\n",
    "\n",
    "filepath = '../data/dracula.txt'\n",
    "\n",
    "def load_text(path):\n",
    "    with open(path, 'r') as f:\n",
    "        raw_text = f.read()\n",
    "    return raw_text\n",
    "\n",
    "def tokens_from_text(text: str):\n",
    "    tokenizer = tiktoken.get_encoding(\"gpt2\")\n",
    "    integers = tokenizer.encode(text)\n",
    "    return integers\n",
    "\n",
    "def text_from_tokens(tokens: list[int]):\n",
    "    tokenizer = tiktoken.get_encoding(\"gpt2\")\n",
    "    text = tokenizer.decode(tokens)\n",
    "    return text\n"
   ]
  },
  {
   "cell_type": "markdown",
   "id": "91019cbc",
   "metadata": {},
   "source": [
    "This now allows us to load text and turn it into tokens (each identified by an integer) or the reverse: given a set of tokens, reconstruct the text from them:"
   ]
  },
  {
   "cell_type": "code",
   "execution_count": 29,
   "id": "588b9536",
   "metadata": {},
   "outputs": [
    {
     "name": "stdout",
     "output_type": "stream",
     "text": [
      "The Project Gutenberg eBook of Dracula\n",
      " \n",
      "[464, 4935, 20336, 46566, 286, 41142, 198, 220]\n",
      "The Project Gutenberg eBook of Dracula\n",
      " \n"
     ]
    }
   ],
   "source": [
    "def get_sample_text(num_chars:int = 40):\n",
    "    raw_text = load_text(filepath)\n",
    "    return raw_text[:num_chars]\n",
    "\n",
    "sample_text = get_sample_text()\n",
    "print(sample_text)\n",
    "\n",
    "tokens = tokens_from_text(sample_text)\n",
    "print(tokens)\n",
    "\n",
    "text = text_from_tokens(tokens)\n",
    "print(text)"
   ]
  },
  {
   "cell_type": "markdown",
   "id": "cf016b50",
   "metadata": {},
   "source": [
    "# Creating a dataset"
   ]
  },
  {
   "cell_type": "markdown",
   "id": "c927d857",
   "metadata": {},
   "source": [
    "We'll first make sure to install pytorch: `conda install pytorch cpuonly -c pytorch`.\n"
   ]
  },
  {
   "cell_type": "code",
   "execution_count": 30,
   "id": "f13b455a",
   "metadata": {},
   "outputs": [],
   "source": [
    "import torch\n",
    "from torch.utils.data import Dataset, DataLoader\n",
    "\n",
    "class MyDataset(Dataset):\n",
    "    def __init__(self, txt: str, tokenizer, max_length=16, stride=4):\n",
    "        \"\"\"\n",
    "        Args:\n",
    "            txt (str): The input text to tokenize and split into sequences.\n",
    "            tokenizer: The tokenizer used to encode the text into token ids.\n",
    "            max_length (int): The context length, i.e., the number of tokens in each input sequence.\n",
    "            stride (int): The step size between the start of consecutive sequences.\n",
    "        \"\"\"\n",
    "        self.tokenizer = tokenizer\n",
    "        self.max_length = max_length  # context length for each input sequence\n",
    "        self.stride = stride\n",
    "        self.token_ids = self.tokenizer.encode(txt)\n",
    "        self.length = len(self.token_ids)\n",
    "\n",
    "        self.input_ids = []    # list of input tokens, our \"context\" as input to the LLM\n",
    "        self.target_ids = []   # list of target tokens that will need to be predicted, our \"context\" shifted by stride\n",
    "\n",
    "        for i in range(0, len(self.token_ids) - self.max_length):\n",
    "            input_chunk = self.token_ids[i:i + self.max_length]\n",
    "            target_chunk = self.token_ids[i + 1:i + self.max_length + 1]\n",
    "            self.input_ids.append(torch.tensor(input_chunk))\n",
    "            self.target_ids.append(torch.tensor(target_chunk))\n",
    "\n",
    "    def __len__(self):\n",
    "        return len(self.input_ids)\n",
    "    \n",
    "    def __getitem__(self, idx):\n",
    "        return self.input_ids[idx], self.target_ids[idx]\n",
    "    \n",
    "def create_dataloader(txt:str, batch_size=4, max_length=256, stride=128, shuffle=True, drop_last=True,num_workers=0):\n",
    "    \"\"\"\n",
    "    Create a DataLoader for the given text.\n",
    "    Args:\n",
    "        txt (str): The input text to tokenize and split into sequences.\n",
    "        batch_size (int): Number of samples per batch.\n",
    "        max_length (int): The context length, i.e., the number of tokens in each input sequence.\n",
    "        stride (int): The step size between the start of consecutive sequences.\n",
    "        shuffle (bool): Whether to shuffle the data at every epoch.\n",
    "        drop_last (bool): Whether to drop the last incomplete batch.\n",
    "        num_workers (int): Number of subprocesses to use for data loading.\n",
    "    \"\"\"\n",
    "\n",
    "    tokenizer = tiktoken.get_encoding(\"gpt2\")\n",
    "    dataset = MyDataset(txt, tokenizer, max_length=max_length, stride=stride)\n",
    "    dataloader = DataLoader(dataset, batch_size=batch_size, shuffle=shuffle, drop_last=drop_last, num_workers=num_workers)\n",
    "    return dataloader"
   ]
  },
  {
   "cell_type": "markdown",
   "id": "2aa09778",
   "metadata": {},
   "source": [
    "Let's test our dataloader now:"
   ]
  },
  {
   "cell_type": "code",
   "execution_count": 31,
   "id": "0360133a",
   "metadata": {},
   "outputs": [
    {
     "name": "stdout",
     "output_type": "stream",
     "text": [
      "sample_text:  The Project Gutenberg eBook of Dracula\n",
      "    \n",
      "This ebook is for the use of anyone anywhere in the United States and\n",
      "most other parts of the world at no cost and with almost no restrictions\n",
      "whatsoever. You may copy it, give it away or re-use it under the terms\n",
      "of the Project Gutenberg License included \n",
      "======\n",
      "Input IDs first batch: \n",
      " tensor([[41142,   198,   220,   220,   220,   220,   198,  1212],\n",
      "        [  220,   220,   220,   198,  1212, 47179,   318,   329]])\n",
      "Target IDs first batch: \n",
      " tensor([[  198,   220,   220,   220,   220,   198,  1212, 47179],\n",
      "        [  220,   220,   198,  1212, 47179,   318,   329,   262]])\n",
      "Total batches: 31\n",
      "Batch size: 2\n",
      "Number of workers: 0\n"
     ]
    }
   ],
   "source": [
    "text = get_sample_text(300)\n",
    "print(\"sample_text: \", text)\n",
    "print(\"======\")\n",
    "dataloader = create_dataloader(txt=text, batch_size=2, max_length=8, stride=2, drop_last=False)\n",
    "for batch in dataloader:\n",
    "    input_ids, target_ids = batch\n",
    "    print(\"Input IDs first batch: \\n\", input_ids)\n",
    "    print(\"Target IDs first batch: \\n\", target_ids)\n",
    "    break  # Just show the first batch\n",
    "print(\"Total batches:\", len(dataloader))\n",
    "print(\"Batch size:\", dataloader.batch_size)\n",
    "print(\"Number of workers:\", dataloader.num_workers)"
   ]
  },
  {
   "cell_type": "markdown",
   "id": "a5383b12",
   "metadata": {},
   "source": []
  },
  {
   "cell_type": "markdown",
   "id": "a205bb56",
   "metadata": {},
   "source": [
    "# From token IDs to Embeddings\n",
    "\n",
    "We now need to translate our token IDs to multi-dimensional vectors that can be used as input for our neural network.  What we have here:\n",
    "- `nr_batches`: the count of batches\n",
    "- `batch_size`: the number of samples in each batch, before we'll update our weights\n",
    "- `max_length`: the length of our context window: how many tokens there are in every sample, to predict the next token from\n",
    "- `vocab_size`: the size of our vocabulary (which in the case of tiktoken \"gpt2\" tokenizer is 50,257 tokens)\n",
    "- `embedding_dim`: the length of each embedding vector, representing a single token (12,288 for GPT-3 for example)\n",
    "\n",
    "Let's work through a simple example first, assuming a single sample, four token input:\n"
   ]
  },
  {
   "cell_type": "markdown",
   "id": "a2d29b33",
   "metadata": {},
   "source": []
  },
  {
   "cell_type": "code",
   "execution_count": 32,
   "id": "5f9dbf0e",
   "metadata": {},
   "outputs": [
    {
     "name": "stdout",
     "output_type": "stream",
     "text": [
      "Parameter containing:\n",
      "tensor([[ 1.9269,  1.4873,  0.9007, -2.1055,  0.6784, -1.2345, -0.0431, -1.6047],\n",
      "        [-0.7521,  1.6487, -0.3925, -1.4036, -0.7279, -0.5594, -0.7688,  0.7624],\n",
      "        [ 1.6423, -0.1596, -0.4974,  0.4396, -0.7581,  1.0783,  0.8008,  1.6806],\n",
      "        [ 1.2791,  1.2964,  0.6105,  1.3347, -0.2316,  0.0418, -0.2516,  0.8599],\n",
      "        [-1.3847, -0.8712, -0.2234,  1.7174,  0.3189, -0.4245,  0.3057, -0.7746],\n",
      "        [-1.5576,  0.9956, -0.8798, -0.6011, -1.2742,  2.1228, -1.2347, -0.4879]],\n",
      "       requires_grad=True)\n",
      "embedding_layer shape: torch.Size([6, 8])\n"
     ]
    }
   ],
   "source": [
    "torch.manual_seed(42)                                           # For reproducibility\n",
    "input_ids = torch.tensor([3, 5, 1, 4 ])                         # Example input tensor, four tokens\n",
    "\n",
    "vocab_size = 6                                                  # Size of the vocabulary, here 6 tokens\n",
    "embedding_dim = 8                                               # Size of the embedding vector for each token, here 8 floats\n",
    "embedding_layer = torch.nn.Embedding(vocab_size, embedding_dim)       # Create the embedding layer\n",
    "\n",
    "print(embedding_layer.weight)\n",
    "print(\"embedding_layer shape:\", embedding_layer.weight.shape)   # Shape of the embedding matrix"
   ]
  },
  {
   "cell_type": "markdown",
   "id": "d8ccc4e1",
   "metadata": {},
   "source": [
    "This is our embedding layer, having for every of the 6 tokens in the vocabulary, a vector of 8 floats representing that token.\n",
    "`nn.Embedding`. This module is a lookup table that stores embeddings of a fixed dictionary and size. When you pass a tensor of token IDs to it, it returns the corresponding embedding vectors for each token. This is commonly used in NLP models to convert token IDs into dense vector representations that can be processed by neural networks.\n",
    "\n",
    "Learn more in the [PyTorch documentation for nn.Embedding](https://pytorch.org/docs/stable/generated/torch.nn.Embedding.html)."
   ]
  },
  {
   "cell_type": "code",
   "execution_count": 36,
   "id": "242d5975",
   "metadata": {},
   "outputs": [
    {
     "name": "stdout",
     "output_type": "stream",
     "text": [
      "input_ids:\n",
      " tensor([3, 5, 1, 4])\n",
      "embedding layer:\n",
      " Parameter containing:\n",
      "tensor([[ 1.9269,  1.4873,  0.9007, -2.1055,  0.6784, -1.2345, -0.0431, -1.6047],\n",
      "        [-0.7521,  1.6487, -0.3925, -1.4036, -0.7279, -0.5594, -0.7688,  0.7624],\n",
      "        [ 1.6423, -0.1596, -0.4974,  0.4396, -0.7581,  1.0783,  0.8008,  1.6806],\n",
      "        [ 1.2791,  1.2964,  0.6105,  1.3347, -0.2316,  0.0418, -0.2516,  0.8599],\n",
      "        [-1.3847, -0.8712, -0.2234,  1.7174,  0.3189, -0.4245,  0.3057, -0.7746],\n",
      "        [-1.5576,  0.9956, -0.8798, -0.6011, -1.2742,  2.1228, -1.2347, -0.4879]],\n",
      "       requires_grad=True)\n",
      "embedding layer shape:\n",
      " torch.Size([6, 8])\n",
      "embeddings shape:\n",
      " torch.Size([4, 8])\n",
      "embeddings:\n",
      " tensor([[ 1.2791,  1.2964,  0.6105,  1.3347, -0.2316,  0.0418, -0.2516,  0.8599],\n",
      "        [-1.5576,  0.9956, -0.8798, -0.6011, -1.2742,  2.1228, -1.2347, -0.4879],\n",
      "        [-0.7521,  1.6487, -0.3925, -1.4036, -0.7279, -0.5594, -0.7688,  0.7624],\n",
      "        [-1.3847, -0.8712, -0.2234,  1.7174,  0.3189, -0.4245,  0.3057, -0.7746]],\n",
      "       grad_fn=<EmbeddingBackward0>)\n"
     ]
    }
   ],
   "source": [
    "# lookup the embeddings for the input tokens\n",
    "embeddings = embedding_layer(input_ids)                        # Shape: (4, 8), 4 tokens, each with an 8-dimensional vector\n",
    "print(\"input_ids:\\n\", input_ids)\n",
    "print(\"embedding layer:\\n\", embedding_layer.weight)\n",
    "print(\"embedding layer shape:\\n\", embedding_layer.weight.shape)\n",
    "print(\"embeddings shape:\\n\", embeddings.shape)\n",
    "print(\"embeddings:\\n\", embeddings)"
   ]
  },
  {
   "cell_type": "markdown",
   "id": "b674bb8a",
   "metadata": {},
   "source": [
    "# Adding positional information\n",
    "\n",
    "One downside of the self-attention mechanics that we'll work with later is that there's no positional information to the tokens.  It all looks the same to the neural net as we have it for now; it won't distinguish between the order of words/tokens in our input.  We'll address this by creating another layer of embeddings, our positional embeddings with dimension `[max_length, embedding_dim]`.  \n",
    "\n",
    "For each position embedding, we'll chose the same length as our `embedding_dim`, so that we can add each of the respective positional vector to each of the corresponding token embedding vector.\n",
    "\n",
    "So in terms of dimensions, we have:\n",
    "- `[max_length, embedding dim]` as our single sample input embedding vector.\n",
    "- `[max_length, embedding dim]` as our position embedding vector\n",
    "\n",
    "It's those two we'll add together to form our input to the LLM.\n",
    "\n",
    "Let's start from our batch again, using somewhat more realistic sizes and dimensions:"
   ]
  },
  {
   "cell_type": "code",
   "execution_count": 41,
   "id": "016a12c6",
   "metadata": {},
   "outputs": [
    {
     "name": "stdout",
     "output_type": "stream",
     "text": [
      "First batch of inputs and targets:\n",
      "Inputs shape: torch.Size([2, 4])\n",
      "Targets shape: torch.Size([2, 4])\n",
      "Embeddings shape: torch.Size([2, 4, 256])\n",
      "Position embeddings shape: torch.Size([4, 256])\n",
      "Combined embeddings shape: torch.Size([2, 4, 256])\n"
     ]
    }
   ],
   "source": [
    "context_length = 4          # Maximum length of the input sequences\n",
    "vocab_size = 50257          # Size of the vocabulary for GPT-2\n",
    "embedding_dim = 256         # Let's say we want 256-dimensional embeddings\n",
    "\n",
    "embedding_layer = torch.nn.Embedding(vocab_size, embedding_dim)\n",
    "\n",
    "dataloader = create_dataloader(txt=text, batch_size=2, max_length=context_length, stride=2, drop_last=True)\n",
    "data_iter = iter(dataloader)\n",
    "inputs, targets = next(data_iter)\n",
    "\n",
    "print(\"First batch of inputs and targets:\")\n",
    "print(\"Inputs shape:\", inputs.shape)            # Shape: (batch_size, max_length)\n",
    "print(\"Targets shape:\", targets.shape)          # Shape: (batch_size, max_length)\n",
    "\n",
    "# Get the embeddings for the input tokens\n",
    "embeddings = embedding_layer(inputs)            # Shape: (batch_size, max_length, embedding_dim)\n",
    "print(\"Embeddings shape:\", embeddings.shape)    # Shape: (batch_size, max_length, embedding_dim)\n",
    "\n",
    "# Get the embedding layer for the positions\n",
    "pos_embedding_layer = torch.nn.Embedding(context_length, embedding_dim)\n",
    "pos_embeddings = pos_embedding_layer(torch.arange(context_length))  # Shape: (context_length, embedding_dim)\n",
    "print(\"Position embeddings shape:\", pos_embeddings.shape)           # Shape: (context_length, embedding_dim)\n",
    "\n",
    "# Combine input embeddings and position embeddings\n",
    "combined_embeddings = embeddings + pos_embeddings                   # Shape: (batch_size, max_length, embedding_dim)\n",
    "print(\"Combined embeddings shape:\", combined_embeddings.shape)  # Shape: (batch_size, max_length, embedding_dim)"
   ]
  },
  {
   "cell_type": "markdown",
   "id": "e8f76ab7",
   "metadata": {},
   "source": [
    "This means that in our first batch we have:\n",
    "- 2 samples\n",
    "- each 4 tokens\n",
    "- each represented by an embedding vector of 256"
   ]
  },
  {
   "cell_type": "markdown",
   "id": "8da8fa78",
   "metadata": {},
   "source": []
  }
 ],
 "metadata": {
  "kernelspec": {
   "display_name": "base",
   "language": "python",
   "name": "python3"
  },
  "language_info": {
   "codemirror_mode": {
    "name": "ipython",
    "version": 3
   },
   "file_extension": ".py",
   "mimetype": "text/x-python",
   "name": "python",
   "nbconvert_exporter": "python",
   "pygments_lexer": "ipython3",
   "version": "3.13.2"
  }
 },
 "nbformat": 4,
 "nbformat_minor": 5
}
