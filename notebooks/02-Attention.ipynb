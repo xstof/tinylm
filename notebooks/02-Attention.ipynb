{
 "cells": [
  {
   "cell_type": "raw",
   "id": "96a0250e",
   "metadata": {
    "vscode": {
     "languageId": "raw"
    }
   },
   "source": [
    "---\n",
    "author: Christof Claessens\n",
    "date: June 2025\n",
    "title: \"Attention mechanics\"\n",
    "---"
   ]
  },
  {
   "cell_type": "markdown",
   "id": "06802ab4",
   "metadata": {},
   "source": [
    "In the previous notebook we prepared and massaged our text into input vectors that encode both tokens as well as their positions.  It's these input vectors that will be handled by the rest of the model."
   ]
  },
  {
   "cell_type": "markdown",
   "id": "5c3708c9",
   "metadata": {},
   "source": [
    "# Self-Attention\n",
    "\n",
    "\n",
    "\n",
    "Self-Attention is a technique whereby each position in the input sequence can consider the relevancy of each other position in the same sequence when the representation for the sequence is being computed.  (Traditional \"attention\", as opposed to self-attention look at relations between two different sequences, input- and output, as opposed as using a single sequence.)"
   ]
  },
  {
   "cell_type": "markdown",
   "id": "d1690776",
   "metadata": {},
   "source": [
    "## Simplified Self-Attention\n",
    "\n",
    "Let's take a simple sentence:\n",
    "\"I am learning this\"\n",
    "\n",
    "This is our input sequencen let's call it $x$ with 4 tokens: $x^{(1)}$, $x^{(2)}$, $x^{(3)}$ and $x^{(4)}$.\n",
    "\n",
    "In general if our context length is $T$ then we have $x^{(1)} \\ldots x^{(T)}$\n",
    "\n",
    "Each $x^{(i)}$ is a $d$-dimensional embedding vector representing a token.\n",
    "\n",
    "Now we will calculate a context vector $z^{i}$ for each $x^{i}$.  This vector will contain information from all vectors $x^{(1)} \\ldots x^{(T)}$\n",
    "\n",
    "### Attention scores\n",
    "\n",
    "So, for example, for $x^{(3)}$ we'll calculate a context vector $z^{(3)}$.  We'll call $x^{(3)}$ our \"query\" vector and for this query we'll calculate an attention score for each of the tokens in our sentence: for example $w_{31}$ for the attention score between our query (the 3rd token) and the first token.  In this way we'll have: $w_{31}$, $w_{32}$, $w_{33}$ and $w_{34}$\n",
    "\n",
    "The attention score $w_{31}$ is the dot product from the third token with the first token.  So if:\n",
    "$$ x^{(3)} = [0.2,0.7,0.9] \\text{  (representing the token \"learning\")} $$\n",
    "$$ x^{(1)} = [0.8,0.9,0.3] \\text{  (representing the token \"I\")} $$\n",
    "\n",
    "Then:\n",
    "\n",
    "$$w_{(31)} = x^{(3)} \\cdot x^{(1)} = [(.2*.8) + (.7*.9) + (.9 * .3)] = 1.06 $$\n",
    "\n",
    "We'll do this between our query $x^{(3)}$ and each of our $x^{(1)},x^{(2)},x^{(3)},x^{(4)}$ which result in an attention vector $w_3 = [ w_{(31)},w_{(32)},w_{(33)},w_{(34)} ]$\n",
    "\n",
    "Now in python, using an input vector of our 4 tokens, each with an embedding dimension of 3:"
   ]
  },
  {
   "cell_type": "code",
   "execution_count": 59,
   "id": "87225baa",
   "metadata": {},
   "outputs": [
    {
     "name": "stdout",
     "output_type": "stream",
     "text": [
      "tensor([[0.8823, 0.9150, 0.3829],\n",
      "        [0.9593, 0.3904, 0.6009],\n",
      "        [0.2566, 0.7936, 0.9408],\n",
      "        [0.1332, 0.9346, 0.5936]])\n"
     ]
    }
   ],
   "source": [
    "#|echo: false\n",
    "import torch\n",
    "torch.manual_seed(42)\n",
    "\n",
    "embedding_dim = 3\n",
    "inputs = torch.rand((4,embedding_dim))\n",
    "print(inputs)"
   ]
  },
  {
   "cell_type": "markdown",
   "id": "acb69795",
   "metadata": {},
   "source": [
    "We'll calculate the attention vector for $x^{(3)}$ as our query:"
   ]
  },
  {
   "cell_type": "code",
   "execution_count": 60,
   "id": "df259370",
   "metadata": {},
   "outputs": [
    {
     "name": "stdout",
     "output_type": "stream",
     "text": [
      "tensor([1.3127, 1.1213, 1.5807, 1.3343])\n"
     ]
    }
   ],
   "source": [
    "query = inputs[2]\n",
    "attention_score_for_x3 = torch.empty((4))\n",
    "for i, xi in enumerate(inputs):\n",
    "    # Calculate the attention score for x3i\n",
    "    attention_score_for_x3[i] = torch.dot(xi, query)\n",
    "\n",
    "print(attention_score_for_x3)"
   ]
  },
  {
   "cell_type": "markdown",
   "id": "33b8fb5d",
   "metadata": {},
   "source": [
    "### Normalizing\n",
    "\n",
    "Now that we've calculated the attention vector $w_3$ for query $x^{(3)}$, we have a vector with a number for every token.  These numbers however are not normalized between $0$ and $1$, which is what we'd really like.  For this, we'll use [Cross-Entropy Loss](../theory/cross-entropy-loss.ipynb), which will make sure the numbers in our attention vector add up to one and each are between $0 \\ldots 1$"
   ]
  },
  {
   "cell_type": "code",
   "execution_count": 61,
   "id": "26d7f4f9",
   "metadata": {},
   "outputs": [
    {
     "name": "stdout",
     "output_type": "stream",
     "text": [
      "tensor([0.2407, 0.1987, 0.3146, 0.2459])\n"
     ]
    }
   ],
   "source": [
    "attention_weights_for_x3 = torch.softmax(attention_score_for_x3, dim=0)\n",
    "print(attention_weights_for_x3)"
   ]
  },
  {
   "cell_type": "markdown",
   "id": "1d9608f2",
   "metadata": {},
   "source": [
    "### Context Vector\n",
    "\n",
    "So now that we have our normalized attention weights for a single query $x^{(3)}$ we can calculate the full context vector that corresponds to $x^{(3)}$\n",
    "\n",
    "Our attention weights from the previous step were: $[.2, .1, .3, .2]$ or more in general, a vector $[\\alpha _{31}, \\alpha _{32}, \\alpha _{33}, \\alpha _{34}]$\n",
    "\n",
    "To calculate the context vector for $x^{(3)}$ we'll take each $\\alpha _{3i}$ and multiply that by $x^{(i)}$.  Then we'll add up all those vectors."
   ]
  },
  {
   "cell_type": "markdown",
   "id": "66414db4",
   "metadata": {},
   "source": []
  },
  {
   "cell_type": "code",
   "execution_count": 62,
   "id": "68002bda",
   "metadata": {},
   "outputs": [
    {
     "name": "stdout",
     "output_type": "stream",
     "text": [
      "tensor([0.5165, 0.7774, 0.6536])\n"
     ]
    }
   ],
   "source": [
    "query = inputs[2]\n",
    "context_vector_for_x3 = torch.zeros((query.shape)) # dimension of query (3 in this case)\n",
    "\n",
    "for i, xi in enumerate(inputs):\n",
    "    context_vector_for_x3 += attention_weights_for_x3[i] * xi # z3\n",
    "\n",
    "print(context_vector_for_x3)"
   ]
  },
  {
   "cell_type": "markdown",
   "id": "2402b7ce",
   "metadata": {},
   "source": [
    "### All context vectors\n",
    "\n",
    "What we did so far is to look at how to calculate a single context vector $z^{(3)}$, for a single token $x^{(3)}$ in our input sequence.  We'll need to make this more scalable and figure out a way to calculate $z$ for all tokens in our input sequence.\n",
    "\n",
    "This means, what we have done for $x^{(3)}$ we need to do for all inputs:"
   ]
  },
  {
   "cell_type": "code",
   "execution_count": 63,
   "id": "028b9ac1",
   "metadata": {},
   "outputs": [
    {
     "name": "stdout",
     "output_type": "stream",
     "text": [
      "attention scores:\n",
      "tensor([[1.7622, 1.4337, 1.3127, 1.1999],\n",
      "        [1.4337, 1.4338, 1.1213, 0.8494],\n",
      "        [1.3127, 1.1213, 1.5807, 1.3343],\n",
      "        [1.1999, 0.8494, 1.3343, 1.2435]])\n",
      "for comparison, the attention scores for x3 as query:\n",
      "tensor([1.3127, 1.1213, 1.5807, 1.3343])\n"
     ]
    }
   ],
   "source": [
    "attention_scores_manual = torch.empty((4, 4))  # for each query of the 4 inputs, calculate 4 attention scores\n",
    "for i, query in enumerate(inputs):\n",
    "    for j, xi in enumerate(inputs):\n",
    "        attention_scores_manual[i][j] = torch.dot(query, xi)\n",
    "\n",
    "print(\"attention scores:\")\n",
    "print(attention_scores_manual)\n",
    "print(\"for comparison, the attention scores for x3 as query:\")\n",
    "print(attention_score_for_x3)"
   ]
  },
  {
   "cell_type": "markdown",
   "id": "fbbdfed7",
   "metadata": {},
   "source": [
    "Using `for` loops however is slow and can't be optimized using CUDA, so let's find a way to do the same, but to use pure tensor calculations instead.  Our inputs look like the below, with 4 tokens, each with a dimension of 3"
   ]
  },
  {
   "cell_type": "code",
   "execution_count": 64,
   "id": "b4de671a",
   "metadata": {},
   "outputs": [
    {
     "name": "stdout",
     "output_type": "stream",
     "text": [
      "tensor([[0.8823, 0.9150, 0.3829],\n",
      "        [0.9593, 0.3904, 0.6009],\n",
      "        [0.2566, 0.7936, 0.9408],\n",
      "        [0.1332, 0.9346, 0.5936]])\n"
     ]
    }
   ],
   "source": [
    "#| echo: false\n",
    "print(inputs)"
   ]
  },
  {
   "cell_type": "markdown",
   "id": "55213d81",
   "metadata": {},
   "source": [
    "We can transpose this vector, so it looks like:"
   ]
  },
  {
   "cell_type": "code",
   "execution_count": 65,
   "id": "3ff2e719",
   "metadata": {},
   "outputs": [
    {
     "name": "stdout",
     "output_type": "stream",
     "text": [
      "tensor([[0.8823, 0.9593, 0.2566, 0.1332],\n",
      "        [0.9150, 0.3904, 0.7936, 0.9346],\n",
      "        [0.3829, 0.6009, 0.9408, 0.5936]])\n"
     ]
    }
   ],
   "source": [
    "#| echo: false\n",
    "print(inputs.T)"
   ]
  },
  {
   "cell_type": "markdown",
   "id": "47699e09",
   "metadata": {},
   "source": [
    "If we now take multiply these two matrices, we get:"
   ]
  },
  {
   "cell_type": "code",
   "execution_count": 66,
   "id": "dbb777d1",
   "metadata": {},
   "outputs": [
    {
     "name": "stdout",
     "output_type": "stream",
     "text": [
      "tensor([[1.7622, 1.4337, 1.3127, 1.1999],\n",
      "        [1.4337, 1.4338, 1.1213, 0.8494],\n",
      "        [1.3127, 1.1213, 1.5807, 1.3343],\n",
      "        [1.1999, 0.8494, 1.3343, 1.2435]])\n",
      "for comparison, the attention scores for x3 as query:\n",
      "tensor([1.3127, 1.1213, 1.5807, 1.3343])\n"
     ]
    }
   ],
   "source": [
    "attention_scores = inputs @ inputs.T  # matrix multiplication\n",
    "print(inputs @ inputs.T) # matrix multiplication\n",
    "print(\"for comparison, the attention scores for x3 as query:\")\n",
    "print(attention_score_for_x3)"
   ]
  },
  {
   "cell_type": "markdown",
   "id": "b7bd878a",
   "metadata": {},
   "source": [
    "These are just attention scores, not yet attention weights, so lets normalize them:"
   ]
  },
  {
   "cell_type": "code",
   "execution_count": 67,
   "id": "4ac7edec",
   "metadata": {},
   "outputs": [
    {
     "name": "stdout",
     "output_type": "stream",
     "text": [
      "attention weights:\n",
      "tensor([[0.3415, 0.2459, 0.2179, 0.1946],\n",
      "        [0.3040, 0.3040, 0.2225, 0.1695],\n",
      "        [0.2407, 0.1987, 0.3146, 0.2459],\n",
      "        [0.2569, 0.1809, 0.2938, 0.2683]])\n",
      "for comparison, the attention weights for x3 as query:\n",
      "tensor([0.2407, 0.1987, 0.3146, 0.2459])\n"
     ]
    }
   ],
   "source": [
    "attention_weights = torch.softmax(attention_scores, dim=-1)  # normalize the attention scores\n",
    "print(\"attention weights:\")\n",
    "print(attention_weights)\n",
    "print(\"for comparison, the attention weights for x3 as query:\")\n",
    "print(attention_weights_for_x3)"
   ]
  },
  {
   "cell_type": "markdown",
   "id": "0ee6c169",
   "metadata": {},
   "source": [
    "From here we can calculate our context vectors:"
   ]
  },
  {
   "cell_type": "code",
   "execution_count": 68,
   "id": "ba50a5fd",
   "metadata": {},
   "outputs": [
    {
     "name": "stdout",
     "output_type": "stream",
     "text": [
      "context vectors for all inputs:\n",
      "tensor([[0.6191, 0.7634, 0.5991],\n",
      "        [0.6395, 0.7318, 0.6090],\n",
      "        [0.5165, 0.7774, 0.6536],\n",
      "        [0.5113, 0.7897, 0.6428]])\n",
      "for comparison, the context vector for x3:\n",
      "tensor([0.5165, 0.7774, 0.6536])\n"
     ]
    }
   ],
   "source": [
    "all_context_vectors = attention_weights @ inputs  # matrix multiplication\n",
    "print(\"context vectors for all inputs:\")\n",
    "print(all_context_vectors)\n",
    "print(\"for comparison, the context vector for x3:\")\n",
    "print(context_vector_for_x3)"
   ]
  },
  {
   "cell_type": "markdown",
   "id": "31153439",
   "metadata": {},
   "source": [
    "## Self-Attention with trainable weights"
   ]
  },
  {
   "cell_type": "markdown",
   "id": "832f3b84",
   "metadata": {},
   "source": [
    "From here we'll expand to what is called \"scaled dot-product attention\".  Also here we'll want to calculate context vectors (one for each of our input tokens) as a weighted sum over (some abstraction) of the inputs.  There are some differences with what we've done so far though:\n",
    "\n",
    "- instead of taking directly $q^{(i)} = x^{(i)}$ as the query vector, we'll use a projection of $x^{(i)}$.  We do this using a trainable weight matrix $W_q$, used to calculate our query\n",
    "- instead of taking directly the dot product of $q^{(i)}$ and each $x^{(i)}$ to calculate our attention scores and weights, we'll do the dot product with a projection of $x^{(i)}$.  We do this using a trainable weight matrix $W_k$, used to calculate our keys.\n",
    "- instead of calculating the weighted average using these scores with each $x^{(i)}$, we'll do this with a projection of $x^{(i)}$.  We do this using a trainable weight matrix $W_v$, used to calculate our values.\n",
    "\n",
    "We'll have trainable weight matrixes: $W_q$, $W_k$, $W_v$ so that the model, when trained can learn to use these to project respectively the query, key and value vectors."
   ]
  },
  {
   "cell_type": "markdown",
   "id": "87c18386",
   "metadata": {},
   "source": []
  },
  {
   "cell_type": "markdown",
   "id": "a79b46f0",
   "metadata": {},
   "source": [
    "### Single context vector (1)\n",
    "\n",
    "Our token embedding vectors are of a certain dimension `embedding_dim = 3` in our example.  We can choose to project these into another dimension, from 3 to 5 for example.  (This is not usually done however, it's likely kept the same.)  For illustration purposes, let's go with 5 here:"
   ]
  },
  {
   "cell_type": "code",
   "execution_count": 69,
   "id": "2db615f5",
   "metadata": {},
   "outputs": [],
   "source": [
    "torch.manual_seed(42)  # for reproducibility\n",
    "\n",
    "d_in = embedding_dim\n",
    "d_out = 2\n",
    "\n",
    "W_query_1 = torch.rand((d_in, d_out))\n",
    "W_key_1 = torch.rand((d_in, d_out))\n",
    "W_value_1 = torch.rand((d_in, d_out))"
   ]
  },
  {
   "cell_type": "markdown",
   "id": "e731ad4a",
   "metadata": {},
   "source": [
    "We can now use  $W_q$, $W_k$, $W_v$ to project an embedding vector from it's normal dimension into a dimension of 5.  Let's use $x^{(3)}$ as an example for our query:"
   ]
  },
  {
   "cell_type": "code",
   "execution_count": 70,
   "id": "6980ee82",
   "metadata": {},
   "outputs": [
    {
     "name": "stdout",
     "output_type": "stream",
     "text": [
      "x3 input:\n",
      "tensor([0.2566, 0.7936, 0.9408])\n",
      "W_query:\n",
      "tensor([[0.8823, 0.9150],\n",
      "        [0.3829, 0.9593],\n",
      "        [0.3904, 0.6009]])\n",
      "projected query:\n",
      "tensor([0.8975, 1.5614])\n"
     ]
    }
   ],
   "source": [
    "x3 = inputs[2]\n",
    "print(\"x3 input:\")\n",
    "print(x3)\n",
    "\n",
    "print(\"W_query:\")\n",
    "print(W_query_1)\n",
    "\n",
    "query = x3 @ W_query_1\n",
    "print(\"projected query:\")\n",
    "print(query)"
   ]
  },
  {
   "cell_type": "markdown",
   "id": "fde87030",
   "metadata": {},
   "source": [
    "Instead of defining our projection matrices like above, we'll define them as pytorch parameters:"
   ]
  },
  {
   "cell_type": "code",
   "execution_count": 71,
   "id": "5938b6c2",
   "metadata": {},
   "outputs": [],
   "source": [
    "W_query = torch.nn.Parameter(W_query_1, requires_grad=False)\n",
    "W_key = torch.nn.Parameter(W_key_1, requires_grad=False)\n",
    "W_value = torch.nn.Parameter(W_value_1, requires_grad=False)\n"
   ]
  },
  {
   "cell_type": "markdown",
   "id": "cc2d67d5",
   "metadata": {},
   "source": [
    "Let's calculate our key and value vectors for every input token in our sentence \"I am learning this\": $x^{(1)}$: \"I\", $x^{(2)}$: \"am\", $x^{(3)}$: \"learning\", $x^{(4)}$: \"this\", "
   ]
  },
  {
   "cell_type": "code",
   "execution_count": 72,
   "id": "b833c4d4",
   "metadata": {},
   "outputs": [
    {
     "name": "stdout",
     "output_type": "stream",
     "text": [
      "values:\n",
      "tensor([[1.7842, 1.1135],\n",
      "        [1.6554, 1.0571],\n",
      "        [1.6442, 1.0264],\n",
      "        [1.3340, 0.8176]])\n",
      "keys:\n",
      "tensor([[1.4450, 1.0493],\n",
      "        [1.1750, 1.1700],\n",
      "        [1.6917, 0.8678],\n",
      "        [1.4682, 0.5825]])\n"
     ]
    }
   ],
   "source": [
    "values = inputs @ W_value\n",
    "print(\"values:\")\n",
    "print(values)\n",
    "keys = inputs @ W_key\n",
    "print(\"keys:\")\n",
    "print(keys)"
   ]
  },
  {
   "cell_type": "markdown",
   "id": "ded1fc7f",
   "metadata": {},
   "source": [
    "Now we can calculate the attention scores, for our query vector that got projected from $x^{(3)}$"
   ]
  },
  {
   "cell_type": "code",
   "execution_count": 73,
   "id": "55f57929",
   "metadata": {},
   "outputs": [
    {
     "name": "stdout",
     "output_type": "stream",
     "text": [
      "query projection from x3:\n",
      "tensor([0.8975, 1.5614])\n"
     ]
    }
   ],
   "source": [
    "#| echo: false\n",
    "print(\"query projection from x3:\")\n",
    "print(query)"
   ]
  },
  {
   "cell_type": "markdown",
   "id": "7aa849c5",
   "metadata": {},
   "source": [
    "The attention score $w_{31}$ is:"
   ]
  },
  {
   "cell_type": "code",
   "execution_count": 74,
   "id": "51c04b8f",
   "metadata": {},
   "outputs": [
    {
     "name": "stdout",
     "output_type": "stream",
     "text": [
      "x1 input:\n",
      "tensor([0.8823, 0.9150, 0.3829])\n",
      "key projection from x1: \n",
      "tensor([1.4450, 1.0493])\n",
      "... which is the same as: \n",
      "tensor([1.4450, 1.0493])\n",
      "attention score between our query and x1's projected key:\n",
      "tensor(2.9354)\n"
     ]
    }
   ],
   "source": [
    "x1 = inputs[0]\n",
    "print(\"x1 input:\")\n",
    "print(x1)\n",
    "print(\"key projection from x1: \")\n",
    "key = x1 @ W_key\n",
    "print(key)\n",
    "print(\"... which is the same as: \")\n",
    "print(keys[0])  # keys[0] is the key for x1\n",
    "\n",
    "print(\"attention score between our query and x1's projected key:\")\n",
    "attention_score_x3_x1 = query.dot(key)\n",
    "print(attention_score_x3_x1)"
   ]
  },
  {
   "cell_type": "markdown",
   "id": "2de57453",
   "metadata": {},
   "source": [
    "In the same way as we got the attention score between the query and x1, we can get all attention scores for our query like this:"
   ]
  },
  {
   "cell_type": "code",
   "execution_count": 75,
   "id": "c8599d0e",
   "metadata": {},
   "outputs": [
    {
     "name": "stdout",
     "output_type": "stream",
     "text": [
      "attention scores for x3 as query:\n",
      "tensor([2.9354, 2.8816, 2.8733, 2.2273])\n"
     ]
    }
   ],
   "source": [
    "attention_scores_x3_as_query = query @ keys.T\n",
    "print(\"attention scores for x3 as query:\")\n",
    "print(attention_scores_x3_as_query)"
   ]
  },
  {
   "cell_type": "markdown",
   "id": "fead7b06",
   "metadata": {},
   "source": [
    "As is shown above, for our chosen query, we'll end up with 4 attention scores: one for each input token.  Like before, we'll want to normalize our attention scores into attention weights but instead of doing a pure softmax function, we'll first scale the attention scores by dividing them by the square root of the dimension of our projected keys (2 in this case)."
   ]
  },
  {
   "cell_type": "code",
   "execution_count": 76,
   "id": "ee0dbd7a",
   "metadata": {},
   "outputs": [
    {
     "name": "stdout",
     "output_type": "stream",
     "text": [
      "dimension of our projected key:  2\n",
      "scaled attention weights for x3 as query:\n",
      "tensor([0.2836, 0.2730, 0.2714, 0.1719])\n"
     ]
    }
   ],
   "source": [
    "print(\"dimension of our projected key: \", d_out)\n",
    "scaled_attention_weights_x3_as_query = \\\n",
    "  torch.softmax(attention_scores_x3_as_query / d_out**0.5, dim=-1)\n",
    "print(\"scaled attention weights for x3 as query:\")\n",
    "print(scaled_attention_weights_x3_as_query)"
   ]
  },
  {
   "cell_type": "markdown",
   "id": "3195a0c3",
   "metadata": {},
   "source": [
    "We don't have our full context vector yet.  For that we'll still need to make a weighted combination of our projected value vectors.  Before we do so, let's digress a little on the need for scaling the softmax."
   ]
  },
  {
   "cell_type": "markdown",
   "id": "1ffe247b",
   "metadata": {},
   "source": [
    "### Why scaling?"
   ]
  },
  {
   "cell_type": "markdown",
   "id": "d02fab30",
   "metadata": {},
   "source": [
    "As the dimension for our projected key vector grows, the dot products can become large numbers.  An example:"
   ]
  },
  {
   "cell_type": "code",
   "execution_count": 77,
   "id": "d45e5e84",
   "metadata": {},
   "outputs": [
    {
     "name": "stdout",
     "output_type": "stream",
     "text": [
      "dimension of the key:  3\n",
      "test token embeddings for 4 token:\n",
      "tensor([[0.2666, 0.6274, 0.2696],\n",
      "        [0.4414, 0.2969, 0.8317],\n",
      "        [0.1053, 0.2695, 0.3588],\n",
      "        [0.1994, 0.5472, 0.0062]])\n",
      "test query:\n",
      "tensor([0.1053, 0.2695, 0.3588])\n",
      "projected small query:\n",
      "tensor([0.4380, 0.3182])\n",
      "projected small keys:\n",
      "tensor([[0.9006, 0.6041],\n",
      "        [0.9639, 0.8792],\n",
      "        [0.4601, 0.4554],\n",
      "        [0.6766, 0.3391]])\n",
      "projected large query:\n",
      "tensor([0.1878, 0.3446, 0.4501, 0.3379, 0.3108, 0.1170, 0.1112, 0.4571, 0.4659,\n",
      "        0.4757, 0.2060, 0.3174, 0.3258, 0.3598, 0.2669, 0.5505, 0.6264, 0.1989,\n",
      "        0.5678, 0.3476, 0.3972, 0.4965, 0.3051, 0.4656, 0.3402, 0.3913, 0.4238,\n",
      "        0.1793, 0.2759, 0.1342, 0.4060, 0.4709, 0.5078, 0.2881, 0.1066, 0.2342,\n",
      "        0.5123, 0.1315, 0.3327, 0.5920, 0.3685, 0.3478, 0.2677, 0.1843, 0.1589,\n",
      "        0.1085, 0.1547, 0.3190, 0.4401, 0.2056, 0.4259, 0.4452, 0.4818, 0.3970,\n",
      "        0.4401, 0.4995, 0.1077, 0.2400, 0.3922, 0.2375, 0.1725, 0.5728, 0.4268,\n",
      "        0.3151])\n",
      "projected large keys:\n",
      "tensor([[0.3035, 0.5216, 0.4596, 0.2893, 0.8955, 0.6188, 0.6455, 0.2561, 0.3482,\n",
      "         0.2990, 0.5600, 0.4848, 0.5095, 0.4012, 0.6952, 0.5336, 0.7148, 0.2508,\n",
      "         0.3392, 0.3222, 0.4917, 0.2481, 0.9719, 0.6077, 0.9490, 0.5704, 0.2386,\n",
      "         0.7114, 0.6478, 0.5438, 0.3272, 0.1102, 0.6529, 0.4615, 0.6076, 0.2971,\n",
      "         0.7800, 0.3415, 0.4149, 0.6020, 0.9005, 0.8435, 0.8293, 0.2204, 0.7158,\n",
      "         0.4737, 0.4997, 0.3527, 0.9515, 0.2662, 0.7417, 0.8811, 0.5258, 0.3140,\n",
      "         0.8549, 0.6960, 0.6771, 0.2255, 0.5432, 0.4350, 0.3110, 0.8551, 0.7196,\n",
      "         0.4307],\n",
      "        [0.5414, 0.8804, 1.0148, 0.4877, 0.8235, 0.7101, 0.6321, 0.6603, 0.7909,\n",
      "         0.2588, 0.7355, 1.0503, 0.8600, 0.6394, 1.0722, 0.9444, 1.1029, 0.4545,\n",
      "         0.5869, 0.5922, 0.7288, 0.4679, 1.2429, 1.0669, 1.0546, 0.6073, 0.5337,\n",
      "         0.7313, 1.0426, 0.9182, 0.4964, 0.3018, 0.9588, 0.7419, 0.6737, 0.5018,\n",
      "         0.7198, 0.4869, 0.5098, 0.8060, 1.2439, 1.0076, 0.6866, 0.3648, 0.8830,\n",
      "         0.9519, 0.7175, 0.6335, 1.1389, 0.4614, 0.7267, 1.2907, 0.4841, 0.5035,\n",
      "         0.7083, 1.0215, 1.0409, 0.5922, 0.4310, 0.4074, 0.3501, 1.0624, 1.0229,\n",
      "         0.9020],\n",
      "        [0.1838, 0.3311, 0.3795, 0.2121, 0.4295, 0.3402, 0.3010, 0.2730, 0.3651,\n",
      "         0.1327, 0.3892, 0.3841, 0.3565, 0.2441, 0.4775, 0.4100, 0.4658, 0.2066,\n",
      "         0.2301, 0.2715, 0.3052, 0.1889, 0.6106, 0.4833, 0.5087, 0.3374, 0.2239,\n",
      "         0.4179, 0.4202, 0.3830, 0.1427, 0.1232, 0.5042, 0.3661, 0.3749, 0.1694,\n",
      "         0.3759, 0.1509, 0.2579, 0.4196, 0.5787, 0.5371, 0.3629, 0.1396, 0.4025,\n",
      "         0.4415, 0.3514, 0.2355, 0.5749, 0.1862, 0.3541, 0.5809, 0.2908, 0.2299,\n",
      "         0.3590, 0.4987, 0.5014, 0.2625, 0.2681, 0.1827, 0.1524, 0.5781, 0.4842,\n",
      "         0.4073],\n",
      "        [0.1846, 0.3146, 0.1962, 0.1578, 0.7056, 0.4448, 0.5090, 0.0615, 0.1004,\n",
      "         0.2439, 0.3434, 0.2190, 0.2877, 0.2528, 0.4102, 0.2744, 0.4366, 0.1196,\n",
      "         0.1940, 0.1490, 0.3129, 0.1252, 0.6383, 0.3039, 0.6941, 0.4018, 0.0853,\n",
      "         0.5061, 0.3915, 0.3056, 0.2424, 0.0210, 0.3584, 0.2398, 0.4157, 0.1903,\n",
      "         0.6133, 0.2556, 0.2766, 0.3666, 0.5725, 0.5584, 0.6834, 0.1339, 0.5017,\n",
      "         0.1842, 0.2965, 0.2012, 0.6479, 0.1490, 0.5800, 0.5425, 0.3916, 0.1746,\n",
      "         0.7133, 0.4049, 0.3785, 0.0399, 0.4320, 0.3572, 0.2354, 0.5413, 0.4412,\n",
      "         0.1595]])\n"
     ]
    }
   ],
   "source": [
    "key_dim = 3\n",
    "print(\"dimension of the key: \", key_dim)\n",
    "small_proj_key_dim = 2\n",
    "large_proj_key_dim = 64\n",
    "\n",
    "test_token_embeddings = torch.rand((4, key_dim)) # 4 tokens, each with key_dim features\n",
    "print(\"test token embeddings for 4 token:\")\n",
    "print(test_token_embeddings)\n",
    "\n",
    "test_query  = test_token_embeddings[2]  # let's take the 3rd token as query\n",
    "print(\"test query:\")\n",
    "print(test_query)\n",
    "\n",
    "W_k_for_small_output_dim = torch.rand(key_dim, small_proj_key_dim)\n",
    "W_q_for_small_output_dim = torch.rand(key_dim, small_proj_key_dim)\n",
    "W_k_for_large_output_dim = torch.rand(key_dim, large_proj_key_dim)\n",
    "W_q_for_large_output_dim = torch.rand(key_dim, large_proj_key_dim)\n",
    "\n",
    "projected_small_keys = test_token_embeddings @ W_k_for_small_output_dim\n",
    "projected_small_query = test_query @ W_q_for_small_output_dim\n",
    "projected_large_keys = test_token_embeddings @ W_k_for_large_output_dim\n",
    "projected_large_query = test_query @ W_q_for_large_output_dim\n",
    "\n",
    "print(\"projected small query:\")\n",
    "print(projected_small_query)\n",
    "print(\"projected small keys:\")\n",
    "print(projected_small_keys)\n",
    "print(\"projected large query:\")\n",
    "print(projected_large_query)\n",
    "print(\"projected large keys:\")\n",
    "print(projected_large_keys)"
   ]
  },
  {
   "cell_type": "code",
   "execution_count": 78,
   "id": "97448ac8",
   "metadata": {},
   "outputs": [
    {
     "name": "stdout",
     "output_type": "stream",
     "text": [
      "attention scores for small keys:\n",
      "tensor([0.5867, 0.7019, 0.3464, 0.4042])\n",
      "attention scores for large keys:\n",
      "tensor([11.8494, 16.6880,  7.7068,  7.4401])\n"
     ]
    }
   ],
   "source": [
    "attention_scores_for_small_keys = projected_small_query @ projected_small_keys.T\n",
    "print(\"attention scores for small keys:\")\n",
    "print(attention_scores_for_small_keys)\n",
    "attention_scores_for_large_keys = projected_large_query @ projected_large_keys.T\n",
    "print(\"attention scores for large keys:\")\n",
    "print(attention_scores_for_large_keys)"
   ]
  },
  {
   "cell_type": "markdown",
   "id": "26d5fede",
   "metadata": {},
   "source": [
    "See how the attention score for a large projected key dimension is so much larger?  Let's see what happens if we just apply softmax to both the small and the large key:"
   ]
  },
  {
   "cell_type": "code",
   "execution_count": 79,
   "id": "7dc39a2c",
   "metadata": {},
   "outputs": [
    {
     "name": "stdout",
     "output_type": "stream",
     "text": [
      "attention weights for small keys:\n",
      "tensor([0.2673, 0.2999, 0.2102, 0.2227])\n",
      "attention weights for large keys:\n",
      "tensor([7.8542e-03, 9.9193e-01, 1.2473e-04, 9.5529e-05])\n"
     ]
    }
   ],
   "source": [
    "attention_weights_for_small_keys = torch.softmax(attention_scores_for_small_keys, dim=0)\n",
    "print(\"attention weights for small keys:\")\n",
    "print(attention_weights_for_small_keys)\n",
    "attention_weights_for_large_keys = torch.softmax(attention_scores_for_large_keys, dim=0)\n",
    "print(\"attention weights for large keys:\")\n",
    "print(attention_weights_for_large_keys)"
   ]
  },
  {
   "cell_type": "markdown",
   "id": "e38acd5e",
   "metadata": {},
   "source": [
    "If we now scale these values before applying softmax, we'll get a different output that brings the result for a large projected key vector much closer in range compared to the small projected key:"
   ]
  },
  {
   "cell_type": "code",
   "execution_count": 80,
   "id": "73343062",
   "metadata": {},
   "outputs": [
    {
     "name": "stdout",
     "output_type": "stream",
     "text": [
      "scaled attention weights for small keys:\n",
      "tensor([0.2626, 0.2849, 0.2216, 0.2308])\n",
      "scaled attention weights for large keys:\n",
      "tensor([0.2498, 0.4574, 0.1488, 0.1440])\n"
     ]
    }
   ],
   "source": [
    "scaled_att_weights_for_small_keys = \\\n",
    "  torch.softmax(attention_scores_for_small_keys / small_proj_key_dim**0.5, dim=0)\n",
    "print(\"scaled attention weights for small keys:\")\n",
    "print(scaled_att_weights_for_small_keys)\n",
    "scaled_att_weights_for_large_keys = \\\n",
    "  torch.softmax(attention_scores_for_large_keys / large_proj_key_dim**0.5, dim=0)\n",
    "print(\"scaled attention weights for large keys:\")\n",
    "print(scaled_att_weights_for_large_keys)"
   ]
  },
  {
   "cell_type": "markdown",
   "id": "2a0ad3b2",
   "metadata": {},
   "source": [
    "### Single context vector (2)"
   ]
  },
  {
   "cell_type": "markdown",
   "id": "941c438b",
   "metadata": {},
   "source": [
    "Now that we have our scaled attention weights, we can calculate the context vector for our query.  We'll do this by making a weighted combination of the projected values.  Our scaled attention weights were:"
   ]
  },
  {
   "cell_type": "code",
   "execution_count": 81,
   "id": "62d316f6",
   "metadata": {},
   "outputs": [
    {
     "name": "stdout",
     "output_type": "stream",
     "text": [
      "scaled attention weights, one for each token:\n",
      "tensor([0.2836, 0.2730, 0.2714, 0.1719])\n"
     ]
    }
   ],
   "source": [
    "#| echo: false\n",
    "print(\"scaled attention weights, one for each token:\")\n",
    "print(scaled_attention_weights_x3_as_query)"
   ]
  },
  {
   "cell_type": "markdown",
   "id": "18d3b26c",
   "metadata": {},
   "source": [
    "These we'll multiply with our projected values.  Our values were:"
   ]
  },
  {
   "cell_type": "code",
   "execution_count": 82,
   "id": "960a94f8",
   "metadata": {},
   "outputs": [
    {
     "name": "stdout",
     "output_type": "stream",
     "text": [
      "projected values:\n",
      "tensor([[1.7842, 1.1135],\n",
      "        [1.6554, 1.0571],\n",
      "        [1.6442, 1.0264],\n",
      "        [1.3340, 0.8176]])\n"
     ]
    }
   ],
   "source": [
    "#| echo: false\n",
    "print(\"projected values:\")\n",
    "print(values)"
   ]
  },
  {
   "cell_type": "markdown",
   "id": "f8c14eb0",
   "metadata": {},
   "source": [
    "The calculated attention vector $z^{(3)}$ for query from $x^{(3)}$:"
   ]
  },
  {
   "cell_type": "code",
   "execution_count": 83,
   "id": "fac6f840",
   "metadata": {},
   "outputs": [
    {
     "name": "stdout",
     "output_type": "stream",
     "text": [
      "z3, the context vector for x3:\n",
      "tensor([1.6336, 1.0236])\n",
      "double check: the first number is the same as:\n",
      "0.67623003\n",
      "the second number is the same as:\n",
      "0.31201166\n"
     ]
    }
   ],
   "source": [
    "context_vector_x3 = scaled_attention_weights_x3_as_query @ values\n",
    "print(\"z3, the context vector for x3:\")\n",
    "print(context_vector_x3)\n",
    "print(\"double check: the first number is the same as:\")\n",
    "print(0.2773*0.6307+0.2594*0.5699+0.27*0.8266+0.1933*0.6742)\n",
    "print(\"the second number is the same as:\")\n",
    "print(0.2773*0.4225+0.2594*0.3401+0.27*0.2332+0.1933*0.2259)\n"
   ]
  },
  {
   "cell_type": "markdown",
   "id": "3123add8",
   "metadata": {},
   "source": [
    "### All context vectors"
   ]
  },
  {
   "cell_type": "markdown",
   "id": "61251ad7",
   "metadata": {},
   "source": [
    "Given everything we know now from above, we'll create a torch module for self attention now:"
   ]
  },
  {
   "cell_type": "code",
   "execution_count": 84,
   "id": "22b4bdfb",
   "metadata": {},
   "outputs": [],
   "source": [
    "import torch.nn as nn\n",
    "torch.manual_seed(42)  # for reproducibility\n",
    "\n",
    "class SelfAttention_1(nn.Module):\n",
    "    def __init__(self, d_in, d_out):\n",
    "        super().__init__()\n",
    "        self.W_query = nn.Parameter(torch.rand(d_in, d_out))\n",
    "        self.W_key = nn.Parameter(torch.rand(d_in, d_out))\n",
    "        self.W_value = nn.Parameter(torch.rand(d_in, d_out))\n",
    "    \n",
    "    def forward(self, x):\n",
    "        keys = x @ self.W_key\n",
    "        queries = x @ self.W_query\n",
    "        values = x @ self.W_value\n",
    "\n",
    "        attention_scores = queries @ keys.T\n",
    "        scaled_attention_weights = \\\n",
    "            torch.softmax(\n",
    "                attention_scores / keys.shape[-1]**0.5\n",
    "            , dim=-1)\n",
    "        context_vectors = scaled_attention_weights @ values\n",
    "        return context_vectors"
   ]
  },
  {
   "cell_type": "markdown",
   "id": "1b037a4d",
   "metadata": {},
   "source": [
    "The way we can use this module using our same inputs as before:"
   ]
  },
  {
   "cell_type": "code",
   "execution_count": 85,
   "id": "44c63556",
   "metadata": {},
   "outputs": [
    {
     "name": "stdout",
     "output_type": "stream",
     "text": [
      "inputs: \n",
      "tensor([[0.8823, 0.9150, 0.3829],\n",
      "        [0.9593, 0.3904, 0.6009],\n",
      "        [0.2566, 0.7936, 0.9408],\n",
      "        [0.1332, 0.9346, 0.5936]])\n",
      "d_in: 3 d_out: 2\n",
      "context vectors from SelfAttention v1:\n",
      "tensor([[1.6390, 1.0270],\n",
      "        [1.6341, 1.0235],\n",
      "        [1.6336, 1.0236],\n",
      "        [1.6307, 1.0217]], grad_fn=<MmBackward0>)\n",
      "for comparison, the context vector for x3:\n",
      "tensor([1.6336, 1.0236])\n"
     ]
    }
   ],
   "source": [
    "torch.manual_seed(42)  # for reproducibility\n",
    "\n",
    "print(\"inputs: \")\n",
    "print(inputs)\n",
    "print(\"d_in:\", d_in, \"d_out:\", d_out)\n",
    "\n",
    "self_att = SelfAttention_1(d_in, d_out)\n",
    "context_vectors_1 = self_att(inputs)\n",
    "print(\"context vectors from SelfAttention v1:\")\n",
    "print(context_vectors_1)\n",
    "print(\"for comparison, the context vector for x3:\")\n",
    "print(context_vector_x3)"
   ]
  },
  {
   "cell_type": "code",
   "execution_count": 86,
   "id": "69a15fc5",
   "metadata": {},
   "outputs": [],
   "source": [
    "torch.manual_seed(42)  # for reproducibility\n",
    "from utils import plot_attention_heatmap\n",
    "\n",
    "class SelfAttention_2(nn.Module):\n",
    "    def __init__(self, d_in, d_out, kqv_bias=False, plot_att_weights=False):\n",
    "        super().__init__()\n",
    "        self.plot_att_weights = plot_att_weights\n",
    "        self.W_query = nn.Linear(d_in, d_out, bias=kqv_bias)\n",
    "        self.W_key = nn.Linear(d_in, d_out, bias=kqv_bias)\n",
    "        self.W_value = nn.Linear(d_in, d_out, bias=kqv_bias)\n",
    "    \n",
    "    def forward(self, x):\n",
    "        keys = self.W_key(x)\n",
    "        queries = self.W_query(x)\n",
    "        values = self.W_value(x)\n",
    "\n",
    "        attention_scores = queries @ keys.T\n",
    "        scaled_attention_weights = \\\n",
    "            torch.softmax(\n",
    "                attention_scores / keys.shape[-1]**0.5\n",
    "            , dim=-1)\n",
    "        \n",
    "        if self.plot_att_weights:\n",
    "            plot_attention_heatmap(scaled_attention_weights, [\"I\", \"am\", \"learning\", \"this\"])\n",
    "        \n",
    "        context_vectors = scaled_attention_weights @ values\n",
    "        return context_vectors"
   ]
  },
  {
   "cell_type": "code",
   "execution_count": 87,
   "id": "1224fd81",
   "metadata": {},
   "outputs": [
    {
     "name": "stdout",
     "output_type": "stream",
     "text": [
      "inputs: \n",
      "tensor([[0.8823, 0.9150, 0.3829],\n",
      "        [0.9593, 0.3904, 0.6009],\n",
      "        [0.2566, 0.7936, 0.9408],\n",
      "        [0.1332, 0.9346, 0.5936]])\n",
      "d_in: 3 d_out: 2\n"
     ]
    },
    {
     "data": {
      "image/png": "[encoded data removed]",
      "text/plain": [
       "<Figure size 640x480 with 2 Axes>"
      ]
     },
     "metadata": {},
     "output_type": "display_data"
    },
    {
     "name": "stdout",
     "output_type": "stream",
     "text": [
      "context vectors from SelfAttention v2:\n",
      "tensor([[0.4536, 0.3638],\n",
      "        [0.4547, 0.3629],\n",
      "        [0.4642, 0.3538],\n",
      "        [0.4657, 0.3523]], grad_fn=<MmBackward0>)\n"
     ]
    }
   ],
   "source": [
    "torch.manual_seed(42)  # for reproducibility\n",
    "\n",
    "print(\"inputs: \")\n",
    "print(inputs)\n",
    "print(\"d_in:\", d_in, \"d_out:\", d_out)\n",
    "\n",
    "self_att = SelfAttention_2(d_in, d_out, kqv_bias=False, plot_att_weights=True)\n",
    "context_vectors_2 = self_att(inputs)\n",
    "print(\"context vectors from SelfAttention v2:\")\n",
    "print(context_vectors_2)"
   ]
  },
  {
   "cell_type": "markdown",
   "id": "d338cd86",
   "metadata": {},
   "source": [
    "Note how the above result is different from our previous implementation, given a different strategy of initializing the weights for our linear layer."
   ]
  },
  {
   "cell_type": "markdown",
   "id": "bd67602f",
   "metadata": {},
   "source": [
    "## Causal self-attention"
   ]
  },
  {
   "cell_type": "markdown",
   "id": "aa973ec1",
   "metadata": {},
   "source": [
    "At this point, we had every token attend to every other token.  We need to introduce causality, making sure that when predicting the next token, the tokens before the current input cannot attend tokens that come after the current input.  (After all, these still need to be predicted.)  We'll do this using what is called \"masked attention\"."
   ]
  },
  {
   "cell_type": "markdown",
   "id": "5dd946ef",
   "metadata": {},
   "source": [
    "### Naive self-attention"
   ]
  },
  {
   "cell_type": "markdown",
   "id": "f22b26d8",
   "metadata": {},
   "source": [
    "First we'll set up the masking in a more naive way, not optimizing this yet just.  Let's first go back to calculating our queries, keys and attention scores.  As a reminder: our inputs and $W_q$, $W_{key}$ vectors:"
   ]
  },
  {
   "cell_type": "code",
   "execution_count": 88,
   "id": "4e58ba0c",
   "metadata": {},
   "outputs": [
    {
     "name": "stdout",
     "output_type": "stream",
     "text": [
      "inputs: tensor([[0.8823, 0.9150, 0.3829],\n",
      "        [0.9593, 0.3904, 0.6009],\n",
      "        [0.2566, 0.7936, 0.9408],\n",
      "        [0.1332, 0.9346, 0.5936]])\n",
      "inputs dimension: torch.Size([4, 3]) \n",
      "\n",
      "W_query weights: Parameter containing:\n",
      "tensor([[ 0.4414,  0.4792, -0.1353],\n",
      "        [ 0.5304, -0.1265,  0.1165]], requires_grad=True)\n",
      "W_query dimension: torch.Size([2, 3]) \n",
      "\n",
      "W_key weights: Parameter containing:\n",
      "tensor([[-0.2811,  0.3391,  0.5090],\n",
      "        [-0.4236,  0.5018,  0.1081]], requires_grad=True)\n",
      "W_key dimension: torch.Size([2, 3]) \n",
      "\n"
     ]
    }
   ],
   "source": [
    "#| echo: false\n",
    "print(f\"inputs: {inputs}\")\n",
    "print(f\"inputs dimension: {inputs.shape} \\n\")\n",
    "print(f\"W_query weights: {self_att.W_query.weight}\")\n",
    "print(f\"W_query dimension: {self_att.W_query.weight.shape} \\n\")\n",
    "print(f\"W_key weights: {self_att.W_key.weight}\")\n",
    "print(f\"W_key dimension: {self_att.W_key.weight.shape} \\n\")"
   ]
  },
  {
   "cell_type": "markdown",
   "id": "8ac8fc4b",
   "metadata": {},
   "source": [
    "Let's calculate our attention scores:"
   ]
  },
  {
   "cell_type": "code",
   "execution_count": 89,
   "id": "d92d1fc9",
   "metadata": {},
   "outputs": [
    {
     "name": "stdout",
     "output_type": "stream",
     "text": [
      "queries: tensor([[0.7761, 0.3968],\n",
      "        [0.5293, 0.5294],\n",
      "        [0.3663, 0.1453],\n",
      "        [0.4264, 0.0216]], grad_fn=<MmBackward0>)\n",
      "queries dimension: torch.Size([4, 2]) \n",
      "\n",
      "keys: tensor([[ 0.2571,  0.1269],\n",
      "        [ 0.1686, -0.1455],\n",
      "        [ 0.6758,  0.3913],\n",
      "        [ 0.5816,  0.4767]], grad_fn=<MmBackward0>)\n",
      "keys dimension: torch.Size([4, 2]) \n",
      "\n",
      "attention scores: tensor([[0.2499, 0.0731, 0.6797, 0.6405],\n",
      "        [0.2032, 0.0122, 0.5648, 0.5602],\n",
      "        [0.1126, 0.0406, 0.3044, 0.2823],\n",
      "        [0.1124, 0.0687, 0.2966, 0.2582]], grad_fn=<MmBackward0>)\n",
      "attention scores dimension: torch.Size([4, 4]) \n",
      "\n",
      "attention weights: tensor([[0.2195, 0.1937, 0.2975, 0.2893],\n",
      "        [0.2246, 0.1962, 0.2900, 0.2891],\n",
      "        [0.2368, 0.2250, 0.2712, 0.2670],\n",
      "        [0.2371, 0.2299, 0.2701, 0.2629]], grad_fn=<SoftmaxBackward0>)\n",
      "attention weights dimension: torch.Size([4, 4]) \n",
      "\n"
     ]
    }
   ],
   "source": [
    "queries = self_att.W_query(inputs)\n",
    "keys = self_att.W_key(inputs)\n",
    "\n",
    "print(f\"queries: {queries}\")\n",
    "print(f\"queries dimension: {queries.shape} \\n\")\n",
    "print(f\"keys: {keys}\")\n",
    "print(f\"keys dimension: {keys.shape} \\n\")\n",
    "att_scores = queries @ keys.T\n",
    "print(f\"attention scores: {att_scores}\")\n",
    "print(f\"attention scores dimension: {att_scores.shape} \\n\")\n",
    "att_weights = torch.softmax(att_scores / keys.shape[-1]**0.5, dim=-1)\n",
    "print(f\"attention weights: {att_weights}\")\n",
    "print(f\"attention weights dimension: {att_weights.shape} \\n\")\n"
   ]
  },
  {
   "cell_type": "markdown",
   "id": "3625dec5",
   "metadata": {},
   "source": [
    "We'll now mask out the values beyond the current input token which should not be seen during training.  We can do this by zeroing out everything above the diagonal of this matrix."
   ]
  },
  {
   "cell_type": "code",
   "execution_count": 90,
   "id": "d3bca65a",
   "metadata": {},
   "outputs": [
    {
     "name": "stdout",
     "output_type": "stream",
     "text": [
      "context length: 4 \n",
      "\n",
      "mask: tensor([[1., 0., 0., 0.],\n",
      "        [1., 1., 0., 0.],\n",
      "        [1., 1., 1., 0.],\n",
      "        [1., 1., 1., 1.]]) \n",
      "\n",
      "masked attention weights: tensor([[0.2195, 0.0000, 0.0000, 0.0000],\n",
      "        [0.2246, 0.1962, 0.0000, 0.0000],\n",
      "        [0.2368, 0.2250, 0.2712, 0.0000],\n",
      "        [0.2371, 0.2299, 0.2701, 0.2629]], grad_fn=<MulBackward0>)\n"
     ]
    }
   ],
   "source": [
    "context_length = att_weights.shape[-1]\n",
    "print(f\"context length: {context_length} \\n\")\n",
    "\n",
    "mask = torch.tril(torch.ones((context_length, context_length)))\n",
    "print(f\"mask: {mask} \\n\")\n",
    "\n",
    "masked_att_weights = att_weights * mask\n",
    "print(f\"masked attention weights: {masked_att_weights}\")"
   ]
  },
  {
   "cell_type": "markdown",
   "id": "7584dba0",
   "metadata": {},
   "source": [
    "Note how these values for each row don't add up to one anymore."
   ]
  },
  {
   "cell_type": "code",
   "execution_count": 91,
   "id": "43f660fd",
   "metadata": {},
   "outputs": [
    {
     "name": "stdout",
     "output_type": "stream",
     "text": [
      "rows sum: tensor([[0.2195],\n",
      "        [0.4208],\n",
      "        [0.7330],\n",
      "        [1.0000]], grad_fn=<SumBackward1>) \n",
      "\n",
      "masked attention weights normalized: tensor([[1.0000, 0.0000, 0.0000, 0.0000],\n",
      "        [0.5337, 0.4663, 0.0000, 0.0000],\n",
      "        [0.3230, 0.3070, 0.3700, 0.0000],\n",
      "        [0.2371, 0.2299, 0.2701, 0.2629]], grad_fn=<DivBackward0>) \n",
      "\n"
     ]
    }
   ],
   "source": [
    "rows_sum = masked_att_weights.sum(dim=-1, keepdim=True)\n",
    "print(f\"rows sum: {rows_sum} \\n\")\n",
    "masked_att_weights_normalized = masked_att_weights / rows_sum\n",
    "print(f\"masked attention weights normalized: {masked_att_weights_normalized} \\n\")"
   ]
  },
  {
   "cell_type": "markdown",
   "id": "13d9cd55",
   "metadata": {},
   "source": [
    "### Optimized self-attention"
   ]
  },
  {
   "cell_type": "markdown",
   "id": "7977a82c",
   "metadata": {},
   "source": [
    "As a mathematical property for the softmax function, it treats $-\\infty$ values as being 0 probabilities.  As such we can turn our masking into:"
   ]
  },
  {
   "cell_type": "code",
   "execution_count": 92,
   "id": "0e6c5d33",
   "metadata": {},
   "outputs": [
    {
     "name": "stdout",
     "output_type": "stream",
     "text": [
      "mask: \n",
      " tensor([[0., 1., 1., 1.],\n",
      "        [0., 0., 1., 1.],\n",
      "        [0., 0., 0., 1.],\n",
      "        [0., 0., 0., 0.]]) \n",
      "\n"
     ]
    }
   ],
   "source": [
    "mask = torch.triu(torch.ones(context_length, context_length), diagonal=1)\n",
    "print(f\"mask: \\n {mask} \\n\")"
   ]
  },
  {
   "cell_type": "code",
   "execution_count": 94,
   "id": "fa473342",
   "metadata": {},
   "outputs": [
    {
     "name": "stdout",
     "output_type": "stream",
     "text": [
      "masked attention scores: \n",
      " tensor([[0.2499,   -inf,   -inf,   -inf],\n",
      "        [0.2032, 0.0122,   -inf,   -inf],\n",
      "        [0.1126, 0.0406, 0.3044,   -inf],\n",
      "        [0.1124, 0.0687, 0.2966, 0.2582]], grad_fn=<MaskedFillBackward0>) \n",
      "\n",
      "masked attention weights normalized: \n",
      " tensor([[1.0000, 0.0000, 0.0000, 0.0000],\n",
      "        [0.5671, 0.4329, 0.0000, 0.0000],\n",
      "        [0.3111, 0.2810, 0.4080, 0.0000],\n",
      "        [0.2239, 0.2105, 0.2905, 0.2752]], grad_fn=<SoftmaxBackward0>) \n",
      "\n"
     ]
    }
   ],
   "source": [
    "masked_scores = att_scores.masked_fill(mask.bool(), - torch.inf)\n",
    "print(f\"masked attention scores: \\n {masked_scores} \\n\")\n",
    "masked_att_weights_normalized = torch.softmax(masked_scores / (keys.shape[-1]**-0.5), dim=1)\n",
    "print(f\"masked attention weights normalized: \\n {masked_att_weights_normalized} \\n\")"
   ]
  },
  {
   "cell_type": "markdown",
   "id": "16142cab",
   "metadata": {},
   "source": [
    "From here we can compute the context vectors as before."
   ]
  },
  {
   "cell_type": "code",
   "execution_count": null,
   "id": "8f38d813",
   "metadata": {},
   "outputs": [
    {
     "name": "stdout",
     "output_type": "stream",
     "text": [
      "context vectors v3:\n",
      "tensor([[0.5545, 0.3680],\n",
      "        [0.5772, 0.2723],\n",
      "        [0.5198, 0.3241],\n",
      "        [0.4590, 0.3586]], grad_fn=<MmBackward0>)\n"
     ]
    }
   ],
   "source": [
    "context_vectors_3 = masked_att_weights_normalized @ self_att.W_value(inputs)\n",
    "print(\"context vectors  from self attention v3:\")\n",
    "print(context_vectors_3)"
   ]
  },
  {
   "cell_type": "markdown",
   "id": "fcf32bf9",
   "metadata": {},
   "source": [
    "### Dropouts"
   ]
  },
  {
   "cell_type": "markdown",
   "id": "5bb11d59",
   "metadata": {},
   "source": [
    "Dropout is a technique where at random some units are being ignored during training (and only during training).  It prevents overfitting.  In transformers we'll either do this:\n",
    "- (most common) after calculating the attention weights, or\n",
    "- after the attention weights are applied to the value vectors\n",
    "\n",
    "Let's see how this works for a simple tensor filled with ones and note how the resulting values are scaled up to compensate for the dropped out values and to retain balance."
   ]
  },
  {
   "cell_type": "code",
   "execution_count": 96,
   "id": "1603d3c4",
   "metadata": {},
   "outputs": [
    {
     "name": "stdout",
     "output_type": "stream",
     "text": [
      "test tensor before dropout:\n",
      "tensor([[1., 1., 1., 1., 1.],\n",
      "        [1., 1., 1., 1., 1.],\n",
      "        [1., 1., 1., 1., 1.],\n",
      "        [1., 1., 1., 1., 1.],\n",
      "        [1., 1., 1., 1., 1.]])\n",
      "test tensor after dropout:\n",
      "tensor([[2., 2., 2., 2., 0.],\n",
      "        [2., 0., 0., 2., 2.],\n",
      "        [2., 2., 0., 0., 2.],\n",
      "        [0., 2., 0., 0., 2.],\n",
      "        [2., 0., 2., 2., 2.]])\n"
     ]
    }
   ],
   "source": [
    "torch.manual_seed(42)  # for reproducibility\n",
    "dropout = nn.Dropout(p=0.5)\n",
    "test = torch.ones(5,5)\n",
    "print(\"test tensor before dropout:\")\n",
    "print(test)\n",
    "print(\"test tensor after dropout:\")\n",
    "print(dropout(test))"
   ]
  },
  {
   "cell_type": "markdown",
   "id": "e5bc2486",
   "metadata": {},
   "source": [
    "### Self-Attention Class"
   ]
  },
  {
   "cell_type": "code",
   "execution_count": null,
   "id": "3ffc267f",
   "metadata": {},
   "outputs": [],
   "source": [
    "class CausalAttention(nn.Module):\n",
    "    def __init__(self, d_in, d_out, context_length, dropout, qkc_bias=False):\n",
    "        super().__init__()\n",
    "        self.d_out = d_out\n",
    "        self.W_query = nn.Linear(d_in, d_out, bias=qkc_bias)   # (d_in, d_out); d_in is the embedding vector size\n",
    "        self.W_key = nn.Linear(d_in, d_out, bias=qkc_bias)     # (d_in, d_out)\n",
    "        self.W_value = nn.Linear(d_in, d_out, bias=qkc_bias)   # (d_in, d_out)  \n",
    "        self.dropout = nn.Dropout(dropout)\n",
    "        self.register_buffer(\"mask\", \n",
    "                             torch.triu(torch.ones(context_length, context_length), diagonal=1))\n",
    "        \n",
    "    def forward(self, x):\n",
    "        \"\"\"\n",
    "            x: input vector (batch_size, num_tokens, d_in)\n",
    "        \"\"\"\n",
    "        batch_size, num_tokens, d_in = x.shape\n",
    "        keys = self.W_key(x)                         # (batch_size, num_tokens, d_in) x (d_in, d_out) = (batch_size, num_tokens, d_out)\n",
    "        queries = self.W_query(x)                    # (batch_size, num_tokens, d_in) x (d_in, d_out) = (batch_size, num_tokens, d_out)\n",
    "        values = self.W_value(x)                     # (batch_size, num_tokens, d_in) x (d_in, d_out) = (batch_size, num_tokens, d_out)   \n",
    "\n",
    "        att_scores = queries @ keys.transpose(1,2)   # (batch_size, num_tokens, d_out) @ (batch_size, d_out, num_tokens) \n",
    "                                                     # = (batch_size, num_tokens, num_tokens)\n",
    "        att_scores.masked_fill_(self.mask.bool(), -torch.inf)\n",
    "\n",
    "        att_weights = torch.softmax(\n",
    "                        att_scores / self.d_out**0.5, dim=-1\n",
    "                      )\n",
    "        att_weights = self.dropout(att_weights)      # (batch_size, num_tokens, num_tokens)\n",
    "\n",
    "        context_vec = att_weights @ values           # (batch_size, num_tokens, num_tokens) @ (batch_size, num_tokens, d_out)\n",
    "                                                     # = (batch_size, num_tokens, d_out)\n",
    "        return context_vec\n"
   ]
  },
  {
   "cell_type": "markdown",
   "id": "efd0af5b",
   "metadata": {},
   "source": [
    "## Multi-Head Attention"
   ]
  },
  {
   "cell_type": "markdown",
   "id": "77b19800",
   "metadata": {},
   "source": [
    "We will now move on from using a single attention head to multiple heads.  Each of those has their own KQV tensors: $W_{q1}$, $W_{q2}$, $W_{k1}$, $W_{k2}$, $W_{v1}$, $W_{v2}$"
   ]
  },
  {
   "cell_type": "markdown",
   "id": "b3e5ed87",
   "metadata": {},
   "source": []
  }
 ],
 "metadata": {
  "kernelspec": {
   "display_name": "base",
   "language": "python",
   "name": "python3"
  },
  "language_info": {
   "codemirror_mode": {
    "name": "ipython",
    "version": 3
   },
   "file_extension": ".py",
   "mimetype": "text/x-python",
   "name": "python",
   "nbconvert_exporter": "python",
   "pygments_lexer": "ipython3",
   "version": "3.13.4"
  }
 },
 "nbformat": 4,
 "nbformat_minor": 5
}
