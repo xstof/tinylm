{
 "cells": [
  {
   "cell_type": "raw",
   "id": "96a0250e",
   "metadata": {
    "vscode": {
     "languageId": "raw"
    }
   },
   "source": [
    "---\n",
    "author: Christof Claessens\n",
    "date: June 2025\n",
    "title: \"Attention mechanics\"\n",
    "---"
   ]
  },
  {
   "cell_type": "markdown",
   "id": "06802ab4",
   "metadata": {},
   "source": [
    "In the previous notebook we prepared and massaged our text into input vectors that encode both tokens as well as their positions.  It's these input vectors that will be handled by the rest of the model."
   ]
  },
  {
   "cell_type": "markdown",
   "id": "5c3708c9",
   "metadata": {},
   "source": [
    "# Self-Attention\n",
    "\n",
    "\n",
    "\n",
    "Self-Attention is a technique whereby each position in the input sequence can consider the relevancy of each other position in the same sequence when the representation for the sequence is being computed.  (Traditional \"attention\", as opposed to self-attention look at relations between two different sequences, input- and output, as opposed as using a single sequence.)"
   ]
  },
  {
   "cell_type": "markdown",
   "id": "d1690776",
   "metadata": {},
   "source": [
    "## Simplified Self-Attention\n",
    "\n",
    "Let's take a simple sentence:\n",
    "\"I am learning this\"\n",
    "\n",
    "This is our input sequencen let's call it $x$ with 4 tokens: $x^{(1)}$, $x^{(2)}$, $x^{(3)}$ and $x^{(4)}$.\n",
    "\n",
    "In general if our context length is $T$ then we have $x^{(1)} \\ldots x^{(T)}$\n",
    "\n",
    "Each $x^{(i)}$ is a $d$-dimensional embedding vector representing a token.\n",
    "\n",
    "Now we will calculate a context vector $z^{i}$ for each $x^{i}$.  This vector will contain information from all vectors $x^{(1)} \\ldots x^{(T)}$\n",
    "\n",
    "### Attention scores\n",
    "\n",
    "So, for example, for $x^{(3)}$ we'll calculate a context vector $z^{(3)}$.  We'll call $x^{(3)}$ our \"query\" vector and for this query we'll calculate an attention score for each of the tokens in our sentence: for example $w_{31}$ for the attention score between our query (the 3rd token) and the first token.  In this way we'll have: $w_{31}$, $w_{32}$, $w_{33}$ and $w_{34}$\n",
    "\n",
    "The attention score $w_{31}$ is the dot product from the third token with the first token.  So if:\n",
    "$$ x^{(3)} = [0.2,0.7,0.9] \\text{  (representing the token \"learning\")} $$\n",
    "$$ x^{(1)} = [0.8,0.9,0.3] \\text{  (representing the token \"I\")} $$\n",
    "\n",
    "Then:\n",
    "\n",
    "$$w_{(31)} = x^{(3)} \\cdot x^{(1)} = [(.2*.8) + (.7*.9) + (.9 * .3)] = 1.06 $$\n",
    "\n",
    "We'll do this between our query $x^{(3)}$ and each of our $x^{(1)},x^{(2)},x^{(3)},x^{(4)}$ which result in an attention vector $w_3 = [ w_{(31)},w_{(32)},w_{(33)},w_{(34)} ]$\n",
    "\n",
    "Now in python, using an input vector of our 4 tokens, each with an embedding dimension of 3:"
   ]
  },
  {
   "cell_type": "code",
   "execution_count": 56,
   "id": "87225baa",
   "metadata": {},
   "outputs": [
    {
     "name": "stdout",
     "output_type": "stream",
     "text": [
      "tensor([[0.8823, 0.9150, 0.3829],\n",
      "        [0.9593, 0.3904, 0.6009],\n",
      "        [0.2566, 0.7936, 0.9408],\n",
      "        [0.1332, 0.9346, 0.5936]])\n"
     ]
    }
   ],
   "source": [
    "#|echo: false\n",
    "import torch\n",
    "torch.manual_seed(42)\n",
    "\n",
    "embedding_dim = 3\n",
    "inputs = torch.rand((4,embedding_dim))\n",
    "print(inputs)"
   ]
  },
  {
   "cell_type": "markdown",
   "id": "acb69795",
   "metadata": {},
   "source": [
    "We'll calculate the attention vector for $x^{(3)}$ as our query:"
   ]
  },
  {
   "cell_type": "code",
   "execution_count": 57,
   "id": "df259370",
   "metadata": {},
   "outputs": [
    {
     "name": "stdout",
     "output_type": "stream",
     "text": [
      "tensor([1.3127, 1.1213, 1.5807, 1.3343])\n"
     ]
    }
   ],
   "source": [
    "query = inputs[2]\n",
    "attention_score_for_x3 = torch.empty((4))\n",
    "for i, xi in enumerate(inputs):\n",
    "    # Calculate the attention score for x3i\n",
    "    attention_score_for_x3[i] = torch.dot(xi, query)\n",
    "\n",
    "print(attention_score_for_x3)"
   ]
  },
  {
   "cell_type": "markdown",
   "id": "33b8fb5d",
   "metadata": {},
   "source": [
    "### Normalizing\n",
    "\n",
    "Now that we've calculated the attention vector $w_3$ for query $x^{(3)}$, we have a vector with a number for every token.  These numbers however are not normalized between $0$ and $1$, which is what we'd really like.  For this, we'll use [Cross-Entropy Loss](../theory/cross-entropy-loss.ipynb), which will make sure the numbers in our attention vector add up to one and each are between $0 \\ldots 1$"
   ]
  },
  {
   "cell_type": "code",
   "execution_count": 58,
   "id": "26d7f4f9",
   "metadata": {},
   "outputs": [
    {
     "name": "stdout",
     "output_type": "stream",
     "text": [
      "tensor([0.2407, 0.1987, 0.3146, 0.2459])\n"
     ]
    }
   ],
   "source": [
    "attention_weights_for_x3 = torch.softmax(attention_score_for_x3, dim=0)\n",
    "print(attention_weights_for_x3)"
   ]
  },
  {
   "cell_type": "markdown",
   "id": "1d9608f2",
   "metadata": {},
   "source": [
    "### Context Vector\n",
    "\n",
    "So now that we have our normalized attention weights for a single query $x^{(3)}$ we can calculate the full context vector that corresponds to $x^{(3)}$\n",
    "\n",
    "Our attention weights from the previous step were: $[.2, .1, .3, .2]$ or more in general, a vector $[\\alpha _{31}, \\alpha _{32}, \\alpha _{33}, \\alpha _{34}]$\n",
    "\n",
    "To calculate the context vector for $x^{(3)}$ we'll take each $\\alpha _{3i}$ and multiply that by $x^{(i)}$.  Then we'll add up all those vectors."
   ]
  },
  {
   "cell_type": "markdown",
   "id": "66414db4",
   "metadata": {},
   "source": []
  },
  {
   "cell_type": "code",
   "execution_count": 59,
   "id": "68002bda",
   "metadata": {},
   "outputs": [
    {
     "name": "stdout",
     "output_type": "stream",
     "text": [
      "tensor([0.5165, 0.7774, 0.6536])\n"
     ]
    }
   ],
   "source": [
    "query = inputs[2]\n",
    "context_vector_for_x3 = torch.zeros((query.shape)) # dimension of query (3 in this case)\n",
    "\n",
    "for i, xi in enumerate(inputs):\n",
    "    context_vector_for_x3 += attention_weights_for_x3[i] * xi # z3\n",
    "\n",
    "print(context_vector_for_x3)"
   ]
  },
  {
   "cell_type": "markdown",
   "id": "2402b7ce",
   "metadata": {},
   "source": [
    "### All context vectors\n",
    "\n",
    "What we did so far is to look at how to calculate a single context vector $z^{(3)}$, for a single token $x^{(3)}$ in our input sequence.  We'll need to make this more scalable and figure out a way to calculate $z$ for all tokens in our input sequence.\n",
    "\n",
    "This means, what we have done for $x^{(3)}$ we need to do for all inputs:"
   ]
  },
  {
   "cell_type": "code",
   "execution_count": 60,
   "id": "028b9ac1",
   "metadata": {},
   "outputs": [
    {
     "name": "stdout",
     "output_type": "stream",
     "text": [
      "attention scores:\n",
      "tensor([[1.7622, 1.4337, 1.3127, 1.1999],\n",
      "        [1.4337, 1.4338, 1.1213, 0.8494],\n",
      "        [1.3127, 1.1213, 1.5807, 1.3343],\n",
      "        [1.1999, 0.8494, 1.3343, 1.2435]])\n",
      "for comparison, the attention scores for x3 as query:\n",
      "tensor([1.3127, 1.1213, 1.5807, 1.3343])\n"
     ]
    }
   ],
   "source": [
    "attention_scores_manual = torch.empty((4, 4))  # for each query of the 4 inputs, calculate 4 attention scores\n",
    "for i, query in enumerate(inputs):\n",
    "    for j, xi in enumerate(inputs):\n",
    "        attention_scores_manual[i][j] = torch.dot(query, xi)\n",
    "\n",
    "print(\"attention scores:\")\n",
    "print(attention_scores_manual)\n",
    "print(\"for comparison, the attention scores for x3 as query:\")\n",
    "print(attention_score_for_x3)"
   ]
  },
  {
   "cell_type": "markdown",
   "id": "fbbdfed7",
   "metadata": {},
   "source": [
    "Using `for` loops however is slow and can't be optimized using CUDA, so let's find a way to do the same, but to use pure tensor calculations instead.  Our inputs look like the below, with 4 tokens, each with a dimension of 3"
   ]
  },
  {
   "cell_type": "code",
   "execution_count": 61,
   "id": "b4de671a",
   "metadata": {},
   "outputs": [
    {
     "name": "stdout",
     "output_type": "stream",
     "text": [
      "tensor([[0.8823, 0.9150, 0.3829],\n",
      "        [0.9593, 0.3904, 0.6009],\n",
      "        [0.2566, 0.7936, 0.9408],\n",
      "        [0.1332, 0.9346, 0.5936]])\n"
     ]
    }
   ],
   "source": [
    "#| echo: false\n",
    "print(inputs)"
   ]
  },
  {
   "cell_type": "markdown",
   "id": "55213d81",
   "metadata": {},
   "source": [
    "We can transpose this vector, so it looks like:"
   ]
  },
  {
   "cell_type": "code",
   "execution_count": 62,
   "id": "3ff2e719",
   "metadata": {},
   "outputs": [
    {
     "name": "stdout",
     "output_type": "stream",
     "text": [
      "tensor([[0.8823, 0.9593, 0.2566, 0.1332],\n",
      "        [0.9150, 0.3904, 0.7936, 0.9346],\n",
      "        [0.3829, 0.6009, 0.9408, 0.5936]])\n"
     ]
    }
   ],
   "source": [
    "#| echo: false\n",
    "print(inputs.T)"
   ]
  },
  {
   "cell_type": "markdown",
   "id": "47699e09",
   "metadata": {},
   "source": [
    "If we now take multiply these two matrices, we get:"
   ]
  },
  {
   "cell_type": "code",
   "execution_count": 63,
   "id": "dbb777d1",
   "metadata": {},
   "outputs": [
    {
     "name": "stdout",
     "output_type": "stream",
     "text": [
      "tensor([[1.7622, 1.4337, 1.3127, 1.1999],\n",
      "        [1.4337, 1.4338, 1.1213, 0.8494],\n",
      "        [1.3127, 1.1213, 1.5807, 1.3343],\n",
      "        [1.1999, 0.8494, 1.3343, 1.2435]])\n",
      "for comparison, the attention scores for x3 as query:\n",
      "tensor([1.3127, 1.1213, 1.5807, 1.3343])\n"
     ]
    }
   ],
   "source": [
    "attention_scores = inputs @ inputs.T  # matrix multiplication\n",
    "print(inputs @ inputs.T) # matrix multiplication\n",
    "print(\"for comparison, the attention scores for x3 as query:\")\n",
    "print(attention_score_for_x3)"
   ]
  },
  {
   "cell_type": "markdown",
   "id": "b7bd878a",
   "metadata": {},
   "source": [
    "These are just attention scores, not yet attention weights, so lets normalize them:"
   ]
  },
  {
   "cell_type": "code",
   "execution_count": 64,
   "id": "4ac7edec",
   "metadata": {},
   "outputs": [
    {
     "name": "stdout",
     "output_type": "stream",
     "text": [
      "attention weights:\n",
      "tensor([[0.3415, 0.2459, 0.2179, 0.1946],\n",
      "        [0.3040, 0.3040, 0.2225, 0.1695],\n",
      "        [0.2407, 0.1987, 0.3146, 0.2459],\n",
      "        [0.2569, 0.1809, 0.2938, 0.2683]])\n",
      "for comparison, the attention weights for x3 as query:\n",
      "tensor([0.2407, 0.1987, 0.3146, 0.2459])\n"
     ]
    }
   ],
   "source": [
    "attention_weights = torch.softmax(attention_scores, dim=-1)  # normalize the attention scores\n",
    "print(\"attention weights:\")\n",
    "print(attention_weights)\n",
    "print(\"for comparison, the attention weights for x3 as query:\")\n",
    "print(attention_weights_for_x3)"
   ]
  },
  {
   "cell_type": "markdown",
   "id": "0ee6c169",
   "metadata": {},
   "source": [
    "From here we can calculate our context vectors:"
   ]
  },
  {
   "cell_type": "code",
   "execution_count": 65,
   "id": "ba50a5fd",
   "metadata": {},
   "outputs": [
    {
     "name": "stdout",
     "output_type": "stream",
     "text": [
      "context vectors for all inputs:\n",
      "tensor([[0.6191, 0.7634, 0.5991],\n",
      "        [0.6395, 0.7318, 0.6090],\n",
      "        [0.5165, 0.7774, 0.6536],\n",
      "        [0.5113, 0.7897, 0.6428]])\n",
      "for comparison, the context vector for x3:\n",
      "tensor([0.5165, 0.7774, 0.6536])\n"
     ]
    }
   ],
   "source": [
    "all_context_vectors = attention_weights @ inputs  # matrix multiplication\n",
    "print(\"context vectors for all inputs:\")\n",
    "print(all_context_vectors)\n",
    "print(\"for comparison, the context vector for x3:\")\n",
    "print(context_vector_for_x3)"
   ]
  },
  {
   "cell_type": "markdown",
   "id": "31153439",
   "metadata": {},
   "source": [
    "## Self-Attention with trainable weights"
   ]
  },
  {
   "cell_type": "markdown",
   "id": "832f3b84",
   "metadata": {},
   "source": [
    "From here we'll expand to what is called \"scaled dot-product attention\".  Also here we'll want to calculate context vectors (one for each of our input tokens) as a weighted sum over (some abstraction) of the inputs.  There are some differences with what we've done so far though:\n",
    "\n",
    "- instead of taking directly $q^{(i)} = x^{(i)}$ as the query vector, we'll use a projection of $x^{(i)}$.  We do this using a trainable weight matrix $W_q$, used to calculate our query\n",
    "- instead of taking directly the dot product of $q^{(i)}$ and each $x^{(i)}$ to calculate our attention scores and weights, we'll do the dot product with a projection of $x^{(i)}$.  We do this using a trainable weight matrix $W_k$, used to calculate our keys.\n",
    "- instead of calculating the weighted average using these scores with each $x^{(i)}$, we'll do this with a projection of $x^{(i)}$.  We do this using a trainable weight matrix $W_v$, used to calculate our values.\n",
    "\n",
    "We'll have trainable weight matrixes: $W_q$, $W_k$, $W_v$ so that the model, when trained can learn to use these to project respectively the query, key and value vectors."
   ]
  },
  {
   "cell_type": "markdown",
   "id": "87c18386",
   "metadata": {},
   "source": []
  },
  {
   "cell_type": "markdown",
   "id": "a79b46f0",
   "metadata": {},
   "source": [
    "### Single context vector (1)\n",
    "\n",
    "Our token embedding vectors are of a certain dimension `embedding_dim = 3` in our example.  We can choose to project these into another dimension, from 3 to 5 for example.  (This is not usually done however, it's likely kept the same.)  For illustration purposes, let's go with 5 here:"
   ]
  },
  {
   "cell_type": "code",
   "execution_count": 66,
   "id": "2db615f5",
   "metadata": {},
   "outputs": [],
   "source": [
    "d_in = embedding_dim\n",
    "d_out = 2\n",
    "\n",
    "W_query_1 = torch.rand((d_in, d_out))\n",
    "W_key_1 = torch.rand((d_in, d_out))\n",
    "W_value_1 = torch.rand((d_in, d_out))"
   ]
  },
  {
   "cell_type": "markdown",
   "id": "e731ad4a",
   "metadata": {},
   "source": [
    "We can now use  $W_q$, $W_k$, $W_v$ to project an embedding vector from it's normal dimension into a dimension of 5.  Let's use $x^{(3)}$ as an example for our query:"
   ]
  },
  {
   "cell_type": "code",
   "execution_count": 67,
   "id": "6980ee82",
   "metadata": {},
   "outputs": [
    {
     "name": "stdout",
     "output_type": "stream",
     "text": [
      "x3 input:\n",
      "tensor([0.2566, 0.7936, 0.9408])\n",
      "W_query:\n",
      "tensor([[0.8694, 0.5677],\n",
      "        [0.7411, 0.4294],\n",
      "        [0.8854, 0.5739]])\n",
      "projected query:\n",
      "tensor([1.6442, 1.0264])\n"
     ]
    }
   ],
   "source": [
    "x3 = inputs[2]\n",
    "print(\"x3 input:\")\n",
    "print(x3)\n",
    "\n",
    "print(\"W_query:\")\n",
    "print(W_query_1)\n",
    "\n",
    "query = x3 @ W_query_1\n",
    "print(\"projected query:\")\n",
    "print(query)"
   ]
  },
  {
   "cell_type": "markdown",
   "id": "fde87030",
   "metadata": {},
   "source": [
    "Instead of defining our projection matrices like above, we'll define them as pytorch parameters:"
   ]
  },
  {
   "cell_type": "code",
   "execution_count": 68,
   "id": "5938b6c2",
   "metadata": {},
   "outputs": [],
   "source": [
    "W_query = torch.nn.Parameter(W_query_1, requires_grad=False)\n",
    "W_key = torch.nn.Parameter(W_key_1, requires_grad=False)\n",
    "W_value = torch.nn.Parameter(W_value_1, requires_grad=False)\n"
   ]
  },
  {
   "cell_type": "markdown",
   "id": "cc2d67d5",
   "metadata": {},
   "source": [
    "Let's calculate our key and value vectors for every input token in our sentence \"I am learning this\": $x^{(1)}$: \"I\", $x^{(2)}$: \"am\", $x^{(3)}$: \"learning\", $x^{(4)}$: \"this\", "
   ]
  },
  {
   "cell_type": "code",
   "execution_count": 69,
   "id": "b833c4d4",
   "metadata": {},
   "outputs": [
    {
     "name": "stdout",
     "output_type": "stream",
     "text": [
      "values:\n",
      "tensor([[0.6307, 0.4225],\n",
      "        [0.5699, 0.3401],\n",
      "        [0.8266, 0.2332],\n",
      "        [0.6742, 0.2259]])\n",
      "keys:\n",
      "tensor([[0.5956, 1.2759],\n",
      "        [0.5394, 1.2740],\n",
      "        [0.5617, 1.2937],\n",
      "        [0.4637, 0.9897]])\n"
     ]
    }
   ],
   "source": [
    "values = inputs @ W_value\n",
    "print(\"values:\")\n",
    "print(values)\n",
    "keys = inputs @ W_key\n",
    "print(\"keys:\")\n",
    "print(keys)"
   ]
  },
  {
   "cell_type": "markdown",
   "id": "ded1fc7f",
   "metadata": {},
   "source": [
    "Now we can calculate the attention scores, for our query vector that got projected from $x^{(3)}$"
   ]
  },
  {
   "cell_type": "code",
   "execution_count": 70,
   "id": "55f57929",
   "metadata": {},
   "outputs": [
    {
     "name": "stdout",
     "output_type": "stream",
     "text": [
      "query projection from x3:\n",
      "tensor([1.6442, 1.0264])\n"
     ]
    }
   ],
   "source": [
    "#| echo: false\n",
    "print(\"query projection from x3:\")\n",
    "print(query)"
   ]
  },
  {
   "cell_type": "markdown",
   "id": "7aa849c5",
   "metadata": {},
   "source": [
    "The attention score $w_{31}$ is:"
   ]
  },
  {
   "cell_type": "code",
   "execution_count": 71,
   "id": "51c04b8f",
   "metadata": {},
   "outputs": [
    {
     "name": "stdout",
     "output_type": "stream",
     "text": [
      "x1 input:\n",
      "tensor([0.8823, 0.9150, 0.3829])\n",
      "key projection from x1: \n",
      "tensor([0.5956, 1.2759])\n",
      "... which is the same as: \n",
      "tensor([0.5956, 1.2759])\n",
      "attention score between our query and x1's projected key:\n",
      "tensor(2.2888)\n"
     ]
    }
   ],
   "source": [
    "x1 = inputs[0]\n",
    "print(\"x1 input:\")\n",
    "print(x1)\n",
    "print(\"key projection from x1: \")\n",
    "key = x1 @ W_key\n",
    "print(key)\n",
    "print(\"... which is the same as: \")\n",
    "print(keys[0])  # keys[0] is the key for x1\n",
    "\n",
    "print(\"attention score between our query and x1's projected key:\")\n",
    "attention_score_x3_x1 = query.dot(key)\n",
    "print(attention_score_x3_x1)"
   ]
  },
  {
   "cell_type": "markdown",
   "id": "2de57453",
   "metadata": {},
   "source": [
    "In the same way as we got the attention score between the query and x1, we can get all attention scores for our query like this:"
   ]
  },
  {
   "cell_type": "code",
   "execution_count": 72,
   "id": "c8599d0e",
   "metadata": {},
   "outputs": [
    {
     "name": "stdout",
     "output_type": "stream",
     "text": [
      "attention scores for x3 as query:\n",
      "tensor([2.2888, 2.1945, 2.2514, 1.7783])\n"
     ]
    }
   ],
   "source": [
    "attention_scores_x3_as_query = query @ keys.T\n",
    "print(\"attention scores for x3 as query:\")\n",
    "print(attention_scores_x3_as_query)"
   ]
  },
  {
   "cell_type": "markdown",
   "id": "fead7b06",
   "metadata": {},
   "source": [
    "As is shown above, for our chosen query, we'll end up with 4 attention scores: one for each input token.  Like before, we'll want to normalize our attention scores into attention weights but instead of doing a pure softmax function, we'll first scale the attention scores by dividing them by the square root of the dimension of our projected keys (2 in this case)."
   ]
  },
  {
   "cell_type": "code",
   "execution_count": 73,
   "id": "ee0dbd7a",
   "metadata": {},
   "outputs": [
    {
     "name": "stdout",
     "output_type": "stream",
     "text": [
      "dimension of our projected key:  2\n",
      "scaled attention weights for x3 as query:\n",
      "tensor([0.2773, 0.2594, 0.2700, 0.1933])\n"
     ]
    }
   ],
   "source": [
    "print(\"dimension of our projected key: \", d_out)\n",
    "scaled_attention_weights_x3_as_query = \\\n",
    "  torch.softmax(attention_scores_x3_as_query / d_out**0.5, dim=-1)\n",
    "print(\"scaled attention weights for x3 as query:\")\n",
    "print(scaled_attention_weights_x3_as_query)"
   ]
  },
  {
   "cell_type": "markdown",
   "id": "3195a0c3",
   "metadata": {},
   "source": [
    "We don't have our full context vector yet.  For that we'll still need to make a weighted combination of our projected value vectors.  Before we do so, let's digress a little on the need for scaling the softmax."
   ]
  },
  {
   "cell_type": "markdown",
   "id": "1ffe247b",
   "metadata": {},
   "source": [
    "### Why scaling?"
   ]
  },
  {
   "cell_type": "markdown",
   "id": "d02fab30",
   "metadata": {},
   "source": [
    "As the dimension for our projected key vector grows, the dot products can become large numbers.  An example:"
   ]
  },
  {
   "cell_type": "code",
   "execution_count": 88,
   "id": "d45e5e84",
   "metadata": {},
   "outputs": [
    {
     "name": "stdout",
     "output_type": "stream",
     "text": [
      "dimension of the key:  3\n",
      "test token embeddings for 4 token:\n",
      "tensor([[0.2754, 0.1046, 0.5527],\n",
      "        [0.1031, 0.1160, 0.0935],\n",
      "        [0.3645, 0.9416, 0.6955],\n",
      "        [0.4407, 0.6029, 0.6991]])\n",
      "test query:\n",
      "tensor([0.3645, 0.9416, 0.6955])\n",
      "projected small query:\n",
      "tensor([1.6317, 1.3363])\n",
      "projected small keys:\n",
      "tensor([[0.4279, 0.0668],\n",
      "        [0.1197, 0.0325],\n",
      "        [0.7030, 0.2156],\n",
      "        [0.6780, 0.1689]])\n",
      "projected large query:\n",
      "tensor([1.3598, 0.5360, 1.1592, 0.6897, 0.7081, 1.1354, 1.4924, 0.7659, 0.5333,\n",
      "        0.6289, 1.6174, 1.0476, 1.2979, 0.9037, 1.1668, 1.0850, 1.2032, 0.7618,\n",
      "        0.6385, 0.5907, 0.9166, 1.4778, 1.0010, 1.3485, 0.9444, 1.3983, 0.7808,\n",
      "        0.6974, 1.0598, 0.9657, 1.0985, 0.4365, 1.1316, 0.7342, 1.8704, 0.9181,\n",
      "        1.0740, 0.4736, 0.8474, 1.0835, 0.4376, 1.0398, 0.3557, 1.6521, 1.1620,\n",
      "        1.5043, 1.2346, 0.4994, 1.5802, 1.1302, 1.5070, 1.2899, 0.6512, 0.6052,\n",
      "        1.6926, 1.2671, 0.7991, 1.2501, 0.6242, 0.8402, 1.2997, 1.0477, 0.7979,\n",
      "        0.8877])\n",
      "projected large keys:\n",
      "tensor([[0.2150, 0.3491, 0.5613, 0.5614, 0.5498, 0.1835, 0.5941, 0.5239, 0.7627,\n",
      "         0.5954, 0.4935, 0.3045, 0.6998, 0.3618, 0.7834, 0.1997, 0.3284, 0.1434,\n",
      "         0.3671, 0.6381, 0.2422, 0.2241, 0.6547, 0.5403, 0.3542, 0.3138, 0.3846,\n",
      "         0.5290, 0.5812, 0.4111, 0.4342, 0.2950, 0.3597, 0.6769, 0.6921, 0.4322,\n",
      "         0.3650, 0.6950, 0.6538, 0.4719, 0.3997, 0.5012, 0.4835, 0.7230, 0.7547,\n",
      "         0.4899, 0.5902, 0.3224, 0.3498, 0.3375, 0.0740, 0.3198, 0.1769, 0.3639,\n",
      "         0.4165, 0.3347, 0.1565, 0.6795, 0.3823, 0.6867, 0.7801, 0.2242, 0.5194,\n",
      "         0.5573],\n",
      "        [0.0667, 0.1416, 0.1247, 0.1180, 0.1188, 0.0689, 0.1916, 0.2047, 0.2103,\n",
      "         0.1297, 0.1307, 0.0966, 0.1746, 0.1698, 0.2506, 0.0961, 0.1490, 0.0610,\n",
      "         0.1133, 0.2050, 0.0919, 0.1256, 0.2189, 0.1356, 0.0881, 0.1537, 0.1060,\n",
      "         0.2325, 0.1462, 0.1728, 0.1301, 0.1064, 0.1473, 0.2181, 0.2341, 0.1674,\n",
      "         0.1375, 0.1825, 0.2217, 0.1714, 0.1523, 0.1409, 0.1043, 0.2580, 0.2007,\n",
      "         0.1980, 0.1600, 0.1348, 0.1738, 0.1077, 0.0566, 0.1455, 0.1124, 0.0839,\n",
      "         0.1508, 0.0991, 0.0841, 0.2107, 0.1398, 0.2106, 0.2314, 0.1350, 0.2051,\n",
      "         0.1641],\n",
      "        [0.3685, 0.8377, 0.8818, 0.7677, 0.7255, 0.3717, 1.4858, 1.3026, 1.2207,\n",
      "         0.8872, 0.7259, 0.5569, 1.1275, 1.1130, 1.5400, 0.5103, 1.1002, 0.3396,\n",
      "         0.5503, 1.3081, 0.4956, 0.8100, 1.5774, 0.8991, 0.5723, 0.9627, 0.5346,\n",
      "         1.4478, 0.9520, 1.1277, 0.6441, 0.5149, 0.9123, 1.4124, 1.5994, 1.2887,\n",
      "         0.8503, 1.2344, 1.3117, 0.9217, 0.9325, 0.6692, 0.6853, 1.6090, 1.1347,\n",
      "         1.3489, 1.1938, 0.9154, 1.2198, 0.6135, 0.4350, 0.8897, 0.7712, 0.4754,\n",
      "         1.0773, 0.5944, 0.6557, 1.5382, 0.8555, 1.2710, 1.3734, 1.0272, 1.3014,\n",
      "         1.1782],\n",
      "        [0.3566, 0.7245, 0.8246, 0.7692, 0.7478, 0.3453, 1.1826, 1.0937, 1.1910,\n",
      "         0.8517, 0.7372, 0.5223, 1.0681, 0.8831, 1.3894, 0.4495, 0.8295, 0.3001,\n",
      "         0.5766, 1.1543, 0.4590, 0.6257, 1.2910, 0.8372, 0.5409, 0.7745, 0.5684,\n",
      "         1.1959, 0.8951, 0.9185, 0.6734, 0.5154, 0.7682, 1.2355, 1.3418, 0.9852,\n",
      "         0.7314, 1.1202, 1.1890, 0.8653, 0.8042, 0.7339, 0.6761, 1.3973, 1.1383,\n",
      "         1.0846, 1.0167, 0.7317, 0.9254, 0.5782, 0.2960, 0.7361, 0.5664, 0.5009,\n",
      "         0.8680, 0.5563, 0.4674, 1.2756, 0.7458, 1.1728, 1.2925, 0.7264, 1.0915,\n",
      "         0.9999]])\n"
     ]
    }
   ],
   "source": [
    "key_dim = 3\n",
    "print(\"dimension of the key: \", key_dim)\n",
    "small_proj_key_dim = 2\n",
    "large_proj_key_dim = 64\n",
    "\n",
    "test_token_embeddings = torch.rand((4, key_dim)) # 4 tokens, each with key_dim features\n",
    "print(\"test token embeddings for 4 token:\")\n",
    "print(test_token_embeddings)\n",
    "\n",
    "test_query  = test_token_embeddings[2]  # let's take the 3rd token as query\n",
    "print(\"test query:\")\n",
    "print(test_query)\n",
    "\n",
    "W_k_for_small_output_dim = torch.rand(key_dim, small_proj_key_dim)\n",
    "W_q_for_small_output_dim = torch.rand(key_dim, small_proj_key_dim)\n",
    "W_k_for_large_output_dim = torch.rand(key_dim, large_proj_key_dim)\n",
    "W_q_for_large_output_dim = torch.rand(key_dim, large_proj_key_dim)\n",
    "\n",
    "projected_small_keys = test_token_embeddings @ W_k_for_small_output_dim\n",
    "projected_small_query = test_query @ W_q_for_small_output_dim\n",
    "projected_large_keys = test_token_embeddings @ W_k_for_large_output_dim\n",
    "projected_large_query = test_query @ W_q_for_large_output_dim\n",
    "\n",
    "print(\"projected small query:\")\n",
    "print(projected_small_query)\n",
    "print(\"projected small keys:\")\n",
    "print(projected_small_keys)\n",
    "print(\"projected large query:\")\n",
    "print(projected_large_query)\n",
    "print(\"projected large keys:\")\n",
    "print(projected_large_keys)"
   ]
  },
  {
   "cell_type": "code",
   "execution_count": 89,
   "id": "97448ac8",
   "metadata": {},
   "outputs": [
    {
     "name": "stdout",
     "output_type": "stream",
     "text": [
      "attention scores for small keys:\n",
      "tensor([0.7875, 0.2388, 1.4352, 1.3320])\n",
      "attention scores for large keys:\n",
      "tensor([29.5998,  9.9446, 63.8539, 55.4694])\n"
     ]
    }
   ],
   "source": [
    "attention_scores_for_small_keys = projected_small_query @ projected_small_keys.T\n",
    "print(\"attention scores for small keys:\")\n",
    "print(attention_scores_for_small_keys)\n",
    "attention_scores_for_large_keys = projected_large_query @ projected_large_keys.T\n",
    "print(\"attention scores for large keys:\")\n",
    "print(attention_scores_for_large_keys)"
   ]
  },
  {
   "cell_type": "markdown",
   "id": "26d5fede",
   "metadata": {},
   "source": [
    "See how the attention score for a large projected key dimension is so much larger?  Let's see what happens if we just apply softmax to both the small and the large key:"
   ]
  },
  {
   "cell_type": "code",
   "execution_count": null,
   "id": "7dc39a2c",
   "metadata": {},
   "outputs": [
    {
     "name": "stdout",
     "output_type": "stream",
     "text": [
      "attention weights for small keys:\n",
      "tensor([0.1918, 0.1108, 0.3666, 0.3307])\n",
      "attention weights for large keys:\n",
      "tensor([1.3290e-15, 3.8671e-24, 9.9977e-01, 2.2833e-04])\n"
     ]
    }
   ],
   "source": [
    "attention_weights_for_small_keys = torch.softmax(attention_scores_for_small_keys, dim=0)\n",
    "print(\"attention weights for small keys:\")\n",
    "print(attention_weights_for_small_keys)\n",
    "attention_weights_for_large_keys = torch.softmax(attention_scores_for_large_keys, dim=0)\n",
    "print(\"attention weights for large keys:\")\n",
    "print(attention_weights_for_large_keys)"
   ]
  },
  {
   "cell_type": "markdown",
   "id": "e38acd5e",
   "metadata": {},
   "source": [
    "If we now scale these values before applying softmax, we'll get a different output that brings the result for a large projected key vector much closer in range compared to the small projected key:"
   ]
  },
  {
   "cell_type": "code",
   "execution_count": 92,
   "id": "73343062",
   "metadata": {},
   "outputs": [
    {
     "name": "stdout",
     "output_type": "stream",
     "text": [
      "scaled attention weights for small keys:\n",
      "tensor([0.2115, 0.1435, 0.3343, 0.3108])\n",
      "scaled attention weights for large keys:\n",
      "tensor([0.0101, 0.0009, 0.7323, 0.2567])\n"
     ]
    }
   ],
   "source": [
    "scaled_att_weights_for_small_keys = \\\n",
    "  torch.softmax(attention_scores_for_small_keys / small_proj_key_dim**0.5, dim=0)\n",
    "print(\"scaled attention weights for small keys:\")\n",
    "print(scaled_att_weights_for_small_keys)\n",
    "scaled_att_weights_for_large_keys = \\\n",
    "  torch.softmax(attention_scores_for_large_keys / large_proj_key_dim**0.5, dim=0)\n",
    "print(\"scaled attention weights for large keys:\")\n",
    "print(scaled_att_weights_for_large_keys)"
   ]
  },
  {
   "cell_type": "markdown",
   "id": "2a0ad3b2",
   "metadata": {},
   "source": [
    "### Single context vector (2)"
   ]
  },
  {
   "cell_type": "markdown",
   "id": "941c438b",
   "metadata": {},
   "source": [
    "Now that we have our scaled attention weights, we can calculate the context vector for our query.  We'll do this by making a weighted combination of the projected values.  Our scaled attention weights were:"
   ]
  },
  {
   "cell_type": "code",
   "execution_count": 94,
   "id": "62d316f6",
   "metadata": {},
   "outputs": [
    {
     "name": "stdout",
     "output_type": "stream",
     "text": [
      "scaled attention weights, one for each token:\n",
      "tensor([0.2773, 0.2594, 0.2700, 0.1933])\n"
     ]
    }
   ],
   "source": [
    "#| echo: false\n",
    "print(\"scaled attention weights, one for each token:\")\n",
    "print(scaled_attention_weights_x3_as_query)"
   ]
  },
  {
   "cell_type": "markdown",
   "id": "18d3b26c",
   "metadata": {},
   "source": [
    "These we'll multiply with our projected values.  Our values were:"
   ]
  },
  {
   "cell_type": "code",
   "execution_count": 95,
   "id": "960a94f8",
   "metadata": {},
   "outputs": [
    {
     "name": "stdout",
     "output_type": "stream",
     "text": [
      "projected values:\n",
      "tensor([[0.6307, 0.4225],\n",
      "        [0.5699, 0.3401],\n",
      "        [0.8266, 0.2332],\n",
      "        [0.6742, 0.2259]])\n"
     ]
    }
   ],
   "source": [
    "#| echo: false\n",
    "print(\"projected values:\")\n",
    "print(values)"
   ]
  },
  {
   "cell_type": "markdown",
   "id": "f8c14eb0",
   "metadata": {},
   "source": [
    "The calculated attention vector for query from $x^{(3)}$:"
   ]
  },
  {
   "cell_type": "code",
   "execution_count": 100,
   "id": "fac6f840",
   "metadata": {},
   "outputs": [
    {
     "name": "stdout",
     "output_type": "stream",
     "text": [
      "context vector for x3:\n",
      "tensor([0.6762, 0.3120])\n",
      "double check: the first number is the same as:\n",
      "0.67623003\n",
      "the second number is the same as:\n",
      "0.31201166\n"
     ]
    }
   ],
   "source": [
    "context_vector_x3 = scaled_attention_weights_x3_as_query @ values\n",
    "print(\"context vector for x3:\")\n",
    "print(context_vector_x3)\n",
    "print(\"double check: the first number is the same as:\")\n",
    "print(0.2773*0.6307+0.2594*0.5699+0.27*0.8266+0.1933*0.6742)\n",
    "print(\"the second number is the same as:\")\n",
    "print(0.2773*0.4225+0.2594*0.3401+0.27*0.2332+0.1933*0.2259)\n"
   ]
  },
  {
   "cell_type": "code",
   "execution_count": null,
   "id": "22148d6a",
   "metadata": {},
   "outputs": [],
   "source": []
  }
 ],
 "metadata": {
  "kernelspec": {
   "display_name": "base",
   "language": "python",
   "name": "python3"
  },
  "language_info": {
   "codemirror_mode": {
    "name": "ipython",
    "version": 3
   },
   "file_extension": ".py",
   "mimetype": "text/x-python",
   "name": "python",
   "nbconvert_exporter": "python",
   "pygments_lexer": "ipython3",
   "version": "3.13.4"
  }
 },
 "nbformat": 4,
 "nbformat_minor": 5
}
