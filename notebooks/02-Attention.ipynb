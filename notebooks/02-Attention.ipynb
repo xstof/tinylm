{
 "cells": [
  {
   "cell_type": "raw",
   "id": "96a0250e",
   "metadata": {
    "vscode": {
     "languageId": "raw"
    }
   },
   "source": [
    "---\n",
    "author: Christof Claessens\n",
    "date: June 2025\n",
    "title: \"Attention mechanics\"\n",
    "---"
   ]
  },
  {
   "cell_type": "markdown",
   "id": "06802ab4",
   "metadata": {},
   "source": [
    "In the previous notebook we prepared and massaged our text into input vectors that encode both tokens as well as their positions.  It's these input vectors that will be handled by the rest of the model."
   ]
  },
  {
   "cell_type": "markdown",
   "id": "5c3708c9",
   "metadata": {},
   "source": [
    "# Self-Attention\n",
    "\n",
    "\n",
    "\n",
    "Self-Attention is a technique whereby each position in the input sequence can consider the relevancy of each other position in the same sequence when the representation for the sequence is being computed.  (Traditional \"attention\", as opposed to self-attention look at relations between two different sequences, input- and output, as opposed as using a single sequence.)"
   ]
  },
  {
   "cell_type": "markdown",
   "id": "d1690776",
   "metadata": {},
   "source": [
    "## Simplified Self-Attention\n",
    "\n",
    "Let's take a simple sentence:\n",
    "\"I am learning this\"\n",
    "\n",
    "This is our input sequencen let's call it $x$ with 4 tokens: $x^{(1)}$, $x^{(2)}$, $x^{(3)}$ and $x^{(4)}$.\n",
    "\n",
    "In general if our context length is $T$ then we have $x^{(1)} \\ldots x^{(T)}$\n",
    "\n",
    "Each $x^{(i)}$ is a $d$-dimensional embedding vector representing a token.\n",
    "\n",
    "Now we will calculate a context vector $z^{i}$ for each $x^{i}$.  This vector will contain information from all vectors $x^{(1)} \\ldots x^{(T)}$\n",
    "\n",
    "### Attention scores\n",
    "\n",
    "So, for example, for $x^{(3)}$ we'll calculate a context vector $z^{(3)}$.  We'll call $x^{(3)}$ our \"query\" vector and for this query we'll calculate an attention score for each of the tokens in our sentence: for example $w_{31}$ for the attention score between our query (the 3rd token) and the first token.  In this way we'll have: $w_{31}$, $w_{32}$, $w_{33}$ and $w_{34}$\n",
    "\n",
    "The attention score $w_{31}$ is the dot product from the third token with the first token.  So if:\n",
    "$$ x^{(3)} = [0.2,0.7,0.9] \\text{  (representing the token \"learning\")} $$\n",
    "$$ x^{(1)} = [0.8,0.9,0.3] \\text{  (representing the token \"I\")} $$\n",
    "\n",
    "Then:\n",
    "\n",
    "$$w_{(31)} = x^{(3)} \\cdot x^{(1)} = [(.2*.8) + (.7*.9) + (.9 * .3)] = 1.06 $$\n",
    "\n",
    "We'll do this between our query $x^{(3)}$ and each of our $x^{(1)},x^{(2)},x^{(3)},x^{(4)}$ which result in an attention vector $w_3 = [ w_{(31)},w_{(32)},w_{(33)},w_{(34)} ]$\n",
    "\n",
    "Now in python, using an input vector of our 4 tokens, each with an embedding dimension of 3:"
   ]
  },
  {
   "cell_type": "code",
   "execution_count": 24,
   "id": "87225baa",
   "metadata": {},
   "outputs": [
    {
     "name": "stdout",
     "output_type": "stream",
     "text": [
      "tensor([[0.8823, 0.9150, 0.3829],\n",
      "        [0.9593, 0.3904, 0.6009],\n",
      "        [0.2566, 0.7936, 0.9408],\n",
      "        [0.1332, 0.9346, 0.5936]])\n"
     ]
    }
   ],
   "source": [
    "#|echo: false\n",
    "import torch\n",
    "torch.manual_seed(42)\n",
    "\n",
    "embedding_dim = 3\n",
    "inputs = torch.rand((4,embedding_dim))\n",
    "print(inputs)"
   ]
  },
  {
   "cell_type": "markdown",
   "id": "acb69795",
   "metadata": {},
   "source": [
    "We'll calculate the attention vector for $x^{(3)}$ as our query:"
   ]
  },
  {
   "cell_type": "code",
   "execution_count": 4,
   "id": "df259370",
   "metadata": {},
   "outputs": [
    {
     "name": "stdout",
     "output_type": "stream",
     "text": [
      "tensor([1.3127, 1.1213, 1.5807, 1.3343])\n"
     ]
    }
   ],
   "source": [
    "query = inputs[2]\n",
    "attention_score_for_x3 = torch.empty((4))\n",
    "for i, xi in enumerate(inputs):\n",
    "    # Calculate the attention score for x3i\n",
    "    attention_score_for_x3[i] = torch.dot(xi, query)\n",
    "\n",
    "print(attention_score_for_x3)"
   ]
  },
  {
   "cell_type": "markdown",
   "id": "33b8fb5d",
   "metadata": {},
   "source": [
    "### Normalizing\n",
    "\n",
    "Now that we've calculated the attention vector $w_3$ for query $x^{(3)}$, we have a vector with a number for every token.  These numbers however are not normalized between $0$ and $1$, which is what we'd really like.  For this, we'll use [Cross-Entropy Loss](../theory/cross-entropy-loss.ipynb), which will make sure the numbers in our attention vector add up to one and each are between $0 \\ldots 1$"
   ]
  },
  {
   "cell_type": "code",
   "execution_count": 6,
   "id": "26d7f4f9",
   "metadata": {},
   "outputs": [
    {
     "name": "stdout",
     "output_type": "stream",
     "text": [
      "tensor([0.2407, 0.1987, 0.3146, 0.2459])\n"
     ]
    }
   ],
   "source": [
    "attention_weights_for_x3 = torch.softmax(attention_score_for_x3, dim=0)\n",
    "print(attention_weights_for_x3)"
   ]
  },
  {
   "cell_type": "markdown",
   "id": "1d9608f2",
   "metadata": {},
   "source": [
    "### Context Vector\n",
    "\n",
    "So now that we have our normalized attention weights for a single query $x^{(3)}$ we can calculate the full context vector that corresponds to $x^{(3)}$\n",
    "\n",
    "Our attention weights from the previous step were: $[.2, .1, .3, .2]$ or more in general, a vector $[\\alpha _{31}, \\alpha _{32}, \\alpha _{33}, \\alpha _{34}]$\n",
    "\n",
    "To calculate the context vector for $x^{(3)}$ we'll take each $\\alpha _{3i}$ and multiply that by $x^{(i)}$.  Then we'll add up all those vectors."
   ]
  },
  {
   "cell_type": "markdown",
   "id": "66414db4",
   "metadata": {},
   "source": []
  },
  {
   "cell_type": "code",
   "execution_count": null,
   "id": "68002bda",
   "metadata": {},
   "outputs": [
    {
     "name": "stdout",
     "output_type": "stream",
     "text": [
      "tensor([0.5165, 0.7774, 0.6536])\n"
     ]
    }
   ],
   "source": [
    "query = inputs[2]\n",
    "context_vector_for_x3 = torch.zeros((query.shape)) # dimension of query (3 in this case)\n",
    "\n",
    "for i, xi in enumerate(inputs):\n",
    "    context_vector_for_x3 += attention_weights_for_x3[i] * xi # z3\n",
    "\n",
    "print(context_vector_for_x3)"
   ]
  },
  {
   "cell_type": "markdown",
   "id": "2402b7ce",
   "metadata": {},
   "source": [
    "### All context vectors\n",
    "\n",
    "What we did so far is to look at how to calculate a single context vector $z^{(3)}$, for a single token $x^{(3)}$ in our input sequence.  We'll need to make this more scalable and figure out a way to calculate $z$ for all tokens in our input sequence.\n",
    "\n",
    "This means, what we have done for $x^{(3)}$ we need to do for all inputs:"
   ]
  },
  {
   "cell_type": "code",
   "execution_count": 16,
   "id": "028b9ac1",
   "metadata": {},
   "outputs": [
    {
     "name": "stdout",
     "output_type": "stream",
     "text": [
      "attention scores:\n",
      "tensor([[1.7622, 1.4337, 1.3127, 1.1999],\n",
      "        [1.4337, 1.4338, 1.1213, 0.8494],\n",
      "        [1.3127, 1.1213, 1.5807, 1.3343],\n",
      "        [1.1999, 0.8494, 1.3343, 1.2435]])\n",
      "for comparison, the attention scores for x3 as query:\n",
      "tensor([1.3127, 1.1213, 1.5807, 1.3343])\n"
     ]
    }
   ],
   "source": [
    "attention_scores_manual = torch.empty((4, 4))  # for each query of the 4 inputs, calculate 4 attention scores\n",
    "for i, query in enumerate(inputs):\n",
    "    for j, xi in enumerate(inputs):\n",
    "        attention_scores_manual[i][j] = torch.dot(query, xi)\n",
    "\n",
    "print(\"attention scores:\")\n",
    "print(attention_scores_manual)\n",
    "print(\"for comparison, the attention scores for x3 as query:\")\n",
    "print(attention_score_for_x3)"
   ]
  },
  {
   "cell_type": "markdown",
   "id": "fbbdfed7",
   "metadata": {},
   "source": [
    "Using `for` loops however is slow and can't be optimized using CUDA, so let's find a way to do the same, but to use pure tensor calculations instead.  Our inputs look like the below, with 4 tokens, each with a dimension of 3"
   ]
  },
  {
   "cell_type": "code",
   "execution_count": 17,
   "id": "b4de671a",
   "metadata": {},
   "outputs": [
    {
     "name": "stdout",
     "output_type": "stream",
     "text": [
      "tensor([[0.8823, 0.9150, 0.3829],\n",
      "        [0.9593, 0.3904, 0.6009],\n",
      "        [0.2566, 0.7936, 0.9408],\n",
      "        [0.1332, 0.9346, 0.5936]])\n"
     ]
    }
   ],
   "source": [
    "#| echo: false\n",
    "print(inputs)"
   ]
  },
  {
   "cell_type": "markdown",
   "id": "55213d81",
   "metadata": {},
   "source": [
    "We can transpose this vector, so it looks like:"
   ]
  },
  {
   "cell_type": "code",
   "execution_count": 12,
   "id": "3ff2e719",
   "metadata": {},
   "outputs": [
    {
     "name": "stdout",
     "output_type": "stream",
     "text": [
      "tensor([[0.8823, 0.9593, 0.2566, 0.1332],\n",
      "        [0.9150, 0.3904, 0.7936, 0.9346],\n",
      "        [0.3829, 0.6009, 0.9408, 0.5936]])\n"
     ]
    }
   ],
   "source": [
    "#| echo: false\n",
    "print(inputs.T)"
   ]
  },
  {
   "cell_type": "markdown",
   "id": "47699e09",
   "metadata": {},
   "source": [
    "If we now take multiply these two matrices, we get:"
   ]
  },
  {
   "cell_type": "code",
   "execution_count": 21,
   "id": "dbb777d1",
   "metadata": {},
   "outputs": [
    {
     "name": "stdout",
     "output_type": "stream",
     "text": [
      "tensor([[1.7622, 1.4337, 1.3127, 1.1999],\n",
      "        [1.4337, 1.4338, 1.1213, 0.8494],\n",
      "        [1.3127, 1.1213, 1.5807, 1.3343],\n",
      "        [1.1999, 0.8494, 1.3343, 1.2435]])\n",
      "for comparison, the attention scores for x3 as query:\n",
      "tensor([1.3127, 1.1213, 1.5807, 1.3343])\n"
     ]
    }
   ],
   "source": [
    "attention_scores = inputs @ inputs.T  # matrix multiplication\n",
    "print(inputs @ inputs.T) # matrix multiplication\n",
    "print(\"for comparison, the attention scores for x3 as query:\")\n",
    "print(attention_score_for_x3)"
   ]
  },
  {
   "cell_type": "markdown",
   "id": "b7bd878a",
   "metadata": {},
   "source": [
    "These are just attention scores, not yet attention weights, so lets normalize them:"
   ]
  },
  {
   "cell_type": "code",
   "execution_count": 20,
   "id": "4ac7edec",
   "metadata": {},
   "outputs": [
    {
     "name": "stdout",
     "output_type": "stream",
     "text": [
      "attention weights:\n",
      "tensor([[0.3415, 0.2459, 0.2179, 0.1946],\n",
      "        [0.3040, 0.3040, 0.2225, 0.1695],\n",
      "        [0.2407, 0.1987, 0.3146, 0.2459],\n",
      "        [0.2569, 0.1809, 0.2938, 0.2683]])\n",
      "for comparison, the attention weights for x3 as query:\n",
      "tensor([0.2407, 0.1987, 0.3146, 0.2459])\n"
     ]
    }
   ],
   "source": [
    "attention_weights = torch.softmax(attention_scores, dim=-1)  # normalize the attention scores\n",
    "print(\"attention weights:\")\n",
    "print(attention_weights)\n",
    "print(\"for comparison, the attention weights for x3 as query:\")\n",
    "print(attention_weights_for_x3)"
   ]
  },
  {
   "cell_type": "markdown",
   "id": "0ee6c169",
   "metadata": {},
   "source": [
    "From here we can calculate our context vectors:"
   ]
  },
  {
   "cell_type": "code",
   "execution_count": 23,
   "id": "ba50a5fd",
   "metadata": {},
   "outputs": [
    {
     "name": "stdout",
     "output_type": "stream",
     "text": [
      "context vectors for all inputs:\n",
      "tensor([[0.6191, 0.7634, 0.5991],\n",
      "        [0.6395, 0.7318, 0.6090],\n",
      "        [0.5165, 0.7774, 0.6536],\n",
      "        [0.5113, 0.7897, 0.6428]])\n",
      "for comparison, the context vector for x3:\n",
      "tensor([0.5165, 0.7774, 0.6536])\n"
     ]
    }
   ],
   "source": [
    "all_context_vectors = attention_weights @ inputs  # matrix multiplication\n",
    "print(\"context vectors for all inputs:\")\n",
    "print(all_context_vectors)\n",
    "print(\"for comparison, the context vector for x3:\")\n",
    "print(context_vector_for_x3)"
   ]
  },
  {
   "cell_type": "markdown",
   "id": "31153439",
   "metadata": {},
   "source": [
    "## Self-Attention with trainable weights"
   ]
  },
  {
   "cell_type": "markdown",
   "id": "832f3b84",
   "metadata": {},
   "source": [
    "From here we'll expand to what is called \"scaled dot-product attention\".  Also here we'll want to calculate context vectors (one for each of our input tokens) as a weighted sum over (some abstraction) of the inputs.  There are some differences with what we've done so far though:\n",
    "\n",
    "- instead of taking directly $q^{(i)} = x^{(i)}$ as the query vector, we'll use a projection of $x^{(i)}$.  We do this using a trainable weight matrix $W_q$, used to calculate our query\n",
    "- instead of taking directly the dot product of $q^{(i)}$ and each $x^{(i)}$ to calculate our attention scores and weights, we'll do the dot product with a projection of $x^{(i)}$.  We do this using a trainable weight matrix $W_k$, used to calculate our keys.\n",
    "- instead of calculating the weighted average using these scores with each $x^{(i)}$, we'll do this with a projection of $x^{(i)}$.  We do this using a trainable weight matrix $W_v$, used to calculate our values.\n",
    "\n",
    "We'll have trainable weight matrixes: $W_q$, $W_k$, $W_v$ so that the model, when trained can learn to use these to project respectively the query, key and value vectors."
   ]
  },
  {
   "cell_type": "markdown",
   "id": "87c18386",
   "metadata": {},
   "source": []
  },
  {
   "cell_type": "markdown",
   "id": "a79b46f0",
   "metadata": {},
   "source": [
    "### Single context vector\n",
    "\n",
    "Our token embedding vectors are of a certain dimension `embedding_dim = 3` in our example.  We can choose to project these into another dimension, from 3 to 5 for example.  (This is not usually done however, it's likely kept the same.)  For illustration purposes, let's go with 5 here:"
   ]
  },
  {
   "cell_type": "code",
   "execution_count": 29,
   "id": "2db615f5",
   "metadata": {},
   "outputs": [],
   "source": [
    "d_in = embedding_dim\n",
    "d_out = 2\n",
    "\n",
    "W_query_1 = torch.rand((d_in, d_out))\n",
    "W_key_1 = torch.rand((d_in, d_out))\n",
    "W_value_1 = torch.rand((d_in, d_out))"
   ]
  },
  {
   "cell_type": "markdown",
   "id": "e731ad4a",
   "metadata": {},
   "source": [
    "We can now use  $W_q$, $W_k$, $W_v$ to project an embedding vector from it's normal dimension into a dimension of 5.  Let's use $x^{(3)}$ as an example for our query:"
   ]
  },
  {
   "cell_type": "code",
   "execution_count": 32,
   "id": "6980ee82",
   "metadata": {},
   "outputs": [
    {
     "name": "stdout",
     "output_type": "stream",
     "text": [
      "x3 input:\n",
      "tensor([0.2566, 0.7936, 0.9408])\n",
      "W_query:\n",
      "tensor([[0.1591, 0.7653],\n",
      "        [0.2979, 0.8035],\n",
      "        [0.3813, 0.7860]])\n",
      "projected query:\n",
      "tensor([0.6360, 1.5735])\n"
     ]
    }
   ],
   "source": [
    "x3 = inputs[2]\n",
    "print(\"x3 input:\")\n",
    "print(x3)\n",
    "\n",
    "print(\"W_query:\")\n",
    "print(W_query_1)\n",
    "\n",
    "query = x3 @ W_query_1\n",
    "print(\"projected query:\")\n",
    "print(query)"
   ]
  },
  {
   "cell_type": "markdown",
   "id": "fde87030",
   "metadata": {},
   "source": [
    "Instead of defining our projection matrices like above, we'll define them as pytorch parameters:"
   ]
  },
  {
   "cell_type": "code",
   "execution_count": 33,
   "id": "5938b6c2",
   "metadata": {},
   "outputs": [],
   "source": [
    "W_query = torch.nn.Parameter(W_query_1, requires_grad=False)\n",
    "W_key = torch.nn.Parameter(W_key_1, requires_grad=False)\n",
    "W_value = torch.nn.Parameter(W_value_1, requires_grad=False)\n"
   ]
  },
  {
   "cell_type": "markdown",
   "id": "cc2d67d5",
   "metadata": {},
   "source": [
    "Let's calculate our key and value vectors for every input token in our sentence \"I am learning this\": $x^{(1)}$: \"I\", $x^{(2)}$: \"am\", $x^{(3)}$: \"learning\", $x^{(4)}$: \"this\", "
   ]
  },
  {
   "cell_type": "code",
   "execution_count": 34,
   "id": "b833c4d4",
   "metadata": {},
   "outputs": [
    {
     "name": "stdout",
     "output_type": "stream",
     "text": [
      "values:\n",
      "tensor([[1.0811, 1.1212],\n",
      "        [1.0958, 0.6997],\n",
      "        [0.7121, 1.0991],\n",
      "        [0.5263, 1.1051]])\n",
      "keys:\n",
      "tensor([[0.8380, 1.0783],\n",
      "        [0.5856, 0.9536],\n",
      "        [0.8969, 1.2950],\n",
      "        [0.8457, 1.0728]])\n"
     ]
    }
   ],
   "source": [
    "values = inputs @ W_value\n",
    "print(\"values:\")\n",
    "print(values)\n",
    "keys = inputs @ W_key\n",
    "print(\"keys:\")\n",
    "print(keys)"
   ]
  },
  {
   "cell_type": "markdown",
   "id": "ded1fc7f",
   "metadata": {},
   "source": [
    "Now we can calculate the attention scores, for our query vector that got projected from $x^{(3)}$"
   ]
  },
  {
   "cell_type": "code",
   "execution_count": 37,
   "id": "55f57929",
   "metadata": {},
   "outputs": [
    {
     "name": "stdout",
     "output_type": "stream",
     "text": [
      "query projection from x3:\n",
      "tensor([0.6360, 1.5735])\n"
     ]
    }
   ],
   "source": [
    "#| echo: false\n",
    "print(\"query projection from x3:\")\n",
    "print(query)"
   ]
  },
  {
   "cell_type": "markdown",
   "id": "7aa849c5",
   "metadata": {},
   "source": [
    "The attention score $w_{31}$ is:"
   ]
  },
  {
   "cell_type": "code",
   "execution_count": 40,
   "id": "51c04b8f",
   "metadata": {},
   "outputs": [
    {
     "name": "stdout",
     "output_type": "stream",
     "text": [
      "x1 input:\n",
      "tensor([0.8823, 0.9150, 0.3829])\n",
      "key projection from x1: \n",
      "tensor([0.8380, 1.0783])\n",
      "... which is the same as: \n",
      "tensor([0.8380, 1.0783])\n",
      "attention score between our query and x1's projected key:\n",
      "tensor(2.2296)\n"
     ]
    }
   ],
   "source": [
    "x1 = inputs[0]\n",
    "print(\"x1 input:\")\n",
    "print(x1)\n",
    "print(\"key projection from x1: \")\n",
    "key = x1 @ W_key\n",
    "print(key)\n",
    "print(\"... which is the same as: \")\n",
    "print(keys[0])  # keys[0] is the key for x1\n",
    "\n",
    "print(\"attention score between our query and x1's projected key:\")\n",
    "attention_score_x3_x1 = query.dot(key)\n",
    "print(attention_score_x3_x1)"
   ]
  },
  {
   "cell_type": "markdown",
   "id": "2de57453",
   "metadata": {},
   "source": [
    "In the same way as we got the attention score between the query and x1, we can get all attention scores for our query like this:"
   ]
  },
  {
   "cell_type": "code",
   "execution_count": 41,
   "id": "c8599d0e",
   "metadata": {},
   "outputs": [
    {
     "name": "stdout",
     "output_type": "stream",
     "text": [
      "attention scores for x3 as query:\n",
      "tensor([2.2296, 1.8729, 2.6081, 2.2259])\n"
     ]
    }
   ],
   "source": [
    "attention_scores_x3_as_query = query @ keys.T\n",
    "print(\"attention scores for x3 as query:\")\n",
    "print(attention_scores_x3_as_query)"
   ]
  },
  {
   "cell_type": "markdown",
   "id": "fead7b06",
   "metadata": {},
   "source": [
    "As is shown above, for our chosen query, we'll end up with 4 attention scores: one for each input token.  Like before, we'll want to normalize our attention scores into attention weights but instead of doing a pure softmax function, we'll first scale the attention scores by dividing them by the square root of the dimension of our projected keys (2 in this case)."
   ]
  },
  {
   "cell_type": "code",
   "execution_count": null,
   "id": "ee0dbd7a",
   "metadata": {},
   "outputs": [
    {
     "name": "stdout",
     "output_type": "stream",
     "text": [
      "dimension of our projected key:  2\n",
      "scaled attention weights for x3 as query:\n",
      "tensor([0.2450, 0.1904, 0.3202, 0.2444])\n"
     ]
    }
   ],
   "source": [
    "print(\"dimension of our projected key: \", d_out)\n",
    "scaled_attention_weights_x3_as_query = \\\n",
    "  torch.softmax(attention_scores_x3_as_query / d_out**0.5, dim=-1)\n",
    "print(\"scaled attention weights for x3 as query:\")\n",
    "print(scaled_attention_weights_x3_as_query)"
   ]
  },
  {
   "cell_type": "markdown",
   "id": "1ffe247b",
   "metadata": {},
   "source": [
    "### Why scaling?"
   ]
  },
  {
   "cell_type": "markdown",
   "id": "d02fab30",
   "metadata": {},
   "source": [
    "As the dimension for our projected key vector grows, the dot products can become large numbers.  An example:"
   ]
  },
  {
   "cell_type": "code",
   "execution_count": 52,
   "id": "d45e5e84",
   "metadata": {},
   "outputs": [
    {
     "name": "stdout",
     "output_type": "stream",
     "text": [
      "dimension of the key:  2\n",
      "projected small key:\n",
      "tensor([0.6326, 0.9359])\n",
      "projected large key:\n",
      "tensor([0.4478, 0.7348, 1.1196, 0.9742, 1.0326, 1.0020, 1.6563, 1.0928, 0.0713,\n",
      "        0.5738, 0.3447, 1.4417, 0.2443, 0.7093, 1.2625, 0.2308, 1.5117, 0.7690,\n",
      "        1.2653, 0.3664, 1.1790, 1.0853, 0.9684, 1.0427, 0.7200, 0.4810, 1.0639,\n",
      "        0.3090, 0.5419, 0.4283, 1.2715, 0.6433, 0.4540, 1.1592, 0.7374, 0.9412,\n",
      "        1.5725, 0.7243, 1.2070, 1.0182, 0.3968, 0.6695, 0.9187, 0.7781, 1.1283,\n",
      "        1.7330, 0.5940, 0.8747, 1.1336, 0.5392, 0.5872, 0.2331, 1.0088, 1.4892,\n",
      "        0.6480, 0.5210, 0.7092, 1.0901, 1.2410, 1.0542, 1.3430, 1.6599, 1.3503,\n",
      "        0.9442])\n"
     ]
    }
   ],
   "source": [
    "key_dim = key.shape[-1]\n",
    "print(\"dimension of the key: \", key_dim)\n",
    "\n",
    "W_k_for_small_output_dim = torch.rand(key_dim, 2)\n",
    "W_q_for_small_output_dim = torch.rand(key_dim, 2)\n",
    "W_k_for_large_output_dim = torch.rand(key_dim, 64)\n",
    "W_q_for_large_output_dim = torch.rand(key_dim, 64)\n",
    "\n",
    "projected_small_key = key @ W_k_for_small_output_dim\n",
    "projected_small_query = query @ W_q_for_small_output_dim\n",
    "projected_large_key = key @ W_k_for_large_output_dim\n",
    "projected_large_query = query @ W_q_for_large_output_dim\n",
    "\n",
    "print(\"projected small key:\")\n",
    "print(projected_small_key)\n",
    "print(\"projected large key:\")\n",
    "print(projected_large_key)"
   ]
  },
  {
   "cell_type": "code",
   "execution_count": 53,
   "id": "97448ac8",
   "metadata": {},
   "outputs": [
    {
     "name": "stdout",
     "output_type": "stream",
     "text": [
      "attention scores for small key:\n",
      "tensor(0.8767)\n",
      "attention scores for large key:\n",
      "tensor(67.4447)\n"
     ]
    }
   ],
   "source": [
    "attention_scores_for_small_key = projected_small_query @ projected_small_key.T\n",
    "print(\"attention scores for small key:\")\n",
    "print(attention_scores_for_small_key)\n",
    "attention_scores_for_large_key = projected_large_query @ projected_large_key.T\n",
    "print(\"attention scores for large key:\")\n",
    "print(attention_scores_for_large_key)"
   ]
  },
  {
   "cell_type": "markdown",
   "id": "26d5fede",
   "metadata": {},
   "source": [
    "See how the attention score for a large projected key dimension is so much larger?"
   ]
  },
  {
   "cell_type": "code",
   "execution_count": null,
   "id": "7dc39a2c",
   "metadata": {},
   "outputs": [],
   "source": []
  }
 ],
 "metadata": {
  "kernelspec": {
   "display_name": "base",
   "language": "python",
   "name": "python3"
  },
  "language_info": {
   "codemirror_mode": {
    "name": "ipython",
    "version": 3
   },
   "file_extension": ".py",
   "mimetype": "text/x-python",
   "name": "python",
   "nbconvert_exporter": "python",
   "pygments_lexer": "ipython3",
   "version": "3.13.4"
  }
 },
 "nbformat": 4,
 "nbformat_minor": 5
}
